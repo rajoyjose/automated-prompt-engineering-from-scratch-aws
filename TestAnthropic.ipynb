{
 "cells": [
  {
   "cell_type": "code",
   "execution_count": 2,
   "id": "fc27e8a1-8ebb-411f-b5d4-7dc2b0cc48a4",
   "metadata": {
    "tags": []
   },
   "outputs": [],
   "source": [
    "import json\n",
    "import backoff\n",
    "import inspect\n",
    "import asyncio"
   ]
  },
  {
   "cell_type": "code",
   "execution_count": 3,
   "id": "3ae7ecde-cb3f-473c-baa6-2f9740a6c386",
   "metadata": {
    "tags": []
   },
   "outputs": [],
   "source": [
    "%load_ext autoreload\n",
    "%autoreload 2"
   ]
  },
  {
   "cell_type": "code",
   "execution_count": 4,
   "id": "f82f93d7-fe59-4c08-8806-110132bc1c79",
   "metadata": {
    "tags": []
   },
   "outputs": [],
   "source": [
    "import boto3\n",
    "import os\n",
    "\n",
    "region = os.environ.get(\"AWS_REGION\")\n",
    "bedrock_service = boto3.client(\n",
    "    service_name='bedrock',\n",
    "    region_name=region,\n",
    ")\n",
    "\n",
    "boto3_bedrock = boto3.client(\n",
    "    service_name='bedrock-runtime',\n",
    "    region_name=region,\n",
    ")"
   ]
  },
  {
   "cell_type": "code",
   "execution_count": 16,
   "id": "d551f94e-2308-4c10-a642-3bcf0e364c6c",
   "metadata": {
    "tags": []
   },
   "outputs": [],
   "source": [
    "target_model_name = \"anthropic.claude-3-haiku-20240307-v1:0\"\n",
    "target_model_native_version = \"bedrock-2023-05-31\"\n",
    "target_model_config = {\n",
    "    \"temperature\": 0, \"max_output_tokens\": 1000, \"top_p\":0\n",
    "    }\n",
    "review_model_name = \"anthropic.claude-3-haiku-20240307-v1:0\"\n",
    "review_model_config = {\n",
    "    \"temperature\": 0, \"max_output_tokens\": 10, \"top_p\":0\n",
    "    }\n",
    "review_prompt_template_path = 'review_prompt_template.txt'"
   ]
  },
  {
   "cell_type": "code",
   "execution_count": 6,
   "id": "f3286642-ca82-429e-8687-903854a76226",
   "metadata": {
    "tags": []
   },
   "outputs": [
    {
     "name": "stdout",
     "output_type": "stream",
     "text": [
      "You are a review model tasked with evaluating the correctness of a response to a navigation problem. \n",
      "The response may contain detailed steps and explanations, but the final answer is the key point. \n",
      "Please determine if the final answer provided in the response is correct based on the ground truth number. \n",
      "Respond with 'True' if the final answer is correct and 'False' if it is not. \n",
      "Only respond with 'True' or 'False', nothing else.\n",
      "\n",
      "Model Response:\n",
      "{model_response}\n",
      "\n",
      "Ground Truth:\n",
      "{ground_truth}\n"
     ]
    }
   ],
   "source": [
    "# Load the review prompt from the text file\n",
    "with open(review_prompt_template_path, 'r') as f:\n",
    "    review_prompt_template = f.read().strip()\n",
    "            \n",
    "print(review_prompt_template)"
   ]
  },
  {
   "cell_type": "code",
   "execution_count": 7,
   "id": "13dceb7c-b844-4363-9f47-20125ec06450",
   "metadata": {
    "tags": []
   },
   "outputs": [],
   "source": [
    "prompt=\"Solve the given problem about geometric shapes\"\n",
    "question='This SVG path element <path d=\"M 66.84,13.67 L 81.50,22.51 M 81.50,22.51 L 75.76,32.04 L 61.09,23.20 L 55.35,32.73 L 50.26,9.67 L 72.58,4.14 L 66.84,13.67\"/> draws a Options: (A) circle (B) heptagon (C) hexagon (D) kite (E) line (F) octagon (G) pentagon (H) rectangle (I) sector (J) triangle'"
   ]
  },
  {
   "cell_type": "code",
   "execution_count": 8,
   "id": "1d35a3ac-927a-4781-b6b5-a7c12ec73ccd",
   "metadata": {
    "tags": []
   },
   "outputs": [],
   "source": [
    "body = json.dumps({\n",
    "            \"anthropic_version\": target_model_native_version,\n",
    "            \"max_tokens\": target_model_config['max_output_tokens'],\n",
    "            \"system\": prompt,\n",
    "            \"temperature\": target_model_config['temperature'],\n",
    "            \"top_p\": target_model_config['top_p'],\n",
    "            \"messages\": [\n",
    "                {\n",
    "                \"role\": \"user\",\n",
    "                \"content\": [{\"type\": \"text\", \"text\": question}]\n",
    "                }\n",
    "            ],\n",
    "        })\n"
   ]
  },
  {
   "cell_type": "code",
   "execution_count": 9,
   "id": "6cf250fa-f2c9-4fa3-82b9-80c3816dff53",
   "metadata": {
    "tags": []
   },
   "outputs": [],
   "source": [
    "accept = 'application/json'\n",
    "contentType = 'application/json'\n",
    "\n",
    "response = boto3_bedrock.invoke_model(body=body, modelId=target_model_name, accept=accept, contentType=contentType)\n",
    "response_body = json.loads(response.get('body').read())"
   ]
  },
  {
   "cell_type": "code",
   "execution_count": 10,
   "id": "eb216fce-edd3-491c-9e33-516228bf9fd4",
   "metadata": {
    "tags": []
   },
   "outputs": [
    {
     "name": "stdout",
     "output_type": "stream",
     "text": [
      "To determine the geometric shape drawn by the given SVG path element, we need to analyze the coordinates and the sequence of the path commands.\n",
      "\n",
      "The path element starts with the command \"M 66.84,13.67\", which is a move-to command that sets the starting point of the path. Then, the path continues with the following commands:\n",
      "\n",
      "1. \"L 81.50,22.51\": This is a line-to command that draws a line from the previous point to the new point (81.50, 22.51).\n",
      "2. \"L 75.76,32.04\": This is another line-to command that draws a line from the previous point to the new point (75.76, 32.04).\n",
      "3. \"L 61.09,23.20\": This is another line-to command that draws a line from the previous point to the new point (61.09, 23.20).\n",
      "4. \"L 55.35,32.73\": This is another line-to command that draws a line from the previous point to the new point (55.35, 32.73).\n",
      "5. \"L 50.26,9.67\": This is another line-to command that draws a line from the previous point to the new point (50.26, 9.67).\n",
      "6. \"L 72.58,4.14\": This is another line-to command that draws a line from the previous point to the new point (72.58, 4.14).\n",
      "7. \"L 66.84,13.67\": This is the final line-to command that draws a line from the previous point to the starting point (66.84, 13.67).\n",
      "\n",
      "Based on the sequence of the path commands, the shape drawn by the given SVG path element is a (E) line.\n",
      "\n",
      "The path does not form a closed shape, such as a circle, polygon, or sector. Instead, it consists of a series of connected line segments, creating a line-like shape."
     ]
    }
   ],
   "source": [
    "from IPython.display import clear_output, display, display_markdown, Markdown\n",
    "display_markdown(Markdown(print(response_body[\"content\"][0][\"text\"], end='')))"
   ]
  },
  {
   "cell_type": "code",
   "execution_count": 11,
   "id": "cb4fac13-9cd0-4764-abef-180955d411fa",
   "metadata": {
    "tags": []
   },
   "outputs": [],
   "source": [
    "from datasets import load_dataset\n",
    "import pandas as pd\n",
    "\n",
    "dataset = load_dataset(\"lukaemon/bbh\", \"geometric_shapes\", cache_dir=\"./bbh_nshapes_cache\")\n",
    "data = dataset[\"test\"]\n",
    "data = data.shuffle(seed=1234)\n",
    "\n",
    "training = data.select(range(100))\n",
    "df_train = pd.DataFrame({\"question\": training[\"input\"], \"answer\": training[\"target\"]})\n",
    "\n",
    "test = data.select(range(100, 200))\n",
    "df_test = pd.DataFrame({\"question\": test[\"input\"], \"answer\": test[\"target\"]})\n",
    "\n",
    "df_train.to_csv(\"train.csv\", index=False)\n",
    "df_test.to_csv(\"test.csv\", index=False)"
   ]
  },
  {
   "cell_type": "code",
   "execution_count": 12,
   "id": "7ba50d85-f052-4bb2-854a-26c67a21d8c4",
   "metadata": {
    "tags": []
   },
   "outputs": [
    {
     "name": "stdout",
     "output_type": "stream",
     "text": [
      "review_prompt_template.txt\n"
     ]
    }
   ],
   "source": [
    "print(review_prompt_template_path)"
   ]
  },
  {
   "cell_type": "code",
   "execution_count": 17,
   "id": "e0fc3ae8-c509-461b-870b-6429e46cf286",
   "metadata": {
    "tags": []
   },
   "outputs": [
    {
     "name": "stdout",
     "output_type": "stream",
     "text": [
      "Function parameters:\n",
      "self = <prompt_evaluator.PromptEvaluator object at 0x7f7a77757b80>\n",
      "df_train =                                              question answer\n",
      "0   This SVG path element <path d=\"M 78.01,21.13 L...    (K)\n",
      "1   This SVG path element <path d=\"M 41.70,41.16 A...    (K)\n",
      "2   This SVG path element <path d=\"M 73.73,87.22 L...    (J)\n",
      "3   This SVG path element <path d=\"M 64.00,63.00 L...    (B)\n",
      "4   This SVG path element <path d=\"M 24.45,23.22 L...    (F)\n",
      "..                                                ...    ...\n",
      "95  This SVG path element <path d=\"M 50.91,18.41 L...    (C)\n",
      "96  This SVG path element <path d=\"M 26.95,11.95 A...    (K)\n",
      "97  This SVG path element <path d=\"M 45.10,9.67 L ...    (J)\n",
      "98  This SVG path element <path d=\"M 34.08,19.65 L...    (B)\n",
      "99  This SVG path element <path d=\"M 43.79,3.46 L ...    (J)\n",
      "\n",
      "[100 rows x 2 columns]\n",
      "target_model_name = anthropic.claude-3-haiku-20240307-v1:0\n",
      "target_model_native_version = bedrock-2023-05-31\n",
      "target_model_config = {'temperature': 0, 'max_output_tokens': 1000, 'top_p': 0}\n",
      "review_model_name = anthropic.claude-3-haiku-20240307-v1:0\n",
      "review_model_config = {'temperature': 0, 'max_output_tokens': 10, 'top_p': 0}\n",
      "review_prompt_template_path = review_prompt_template.txt\n",
      "Function signature: PromptEvaluator(df_train, target_model_name, target_model_native_version, target_model_config, review_model_name, review_model_config, review_prompt_template_path)\n"
     ]
    }
   ],
   "source": [
    "df_train=df_test\n",
    "from prompt_evaluator import PromptEvaluator\n",
    "try:\n",
    "    #evaluator = PromptEvaluator(df_train, target_model_name, target_model_config, review_model_name, target_model_native_version, review_model_config, review_prompt_template_path)\n",
    "    evaluator = PromptEvaluator(df_train, target_model_name, target_model_native_version, target_model_config, review_model_name, review_model_config, review_prompt_template_path)\n",
    "\n",
    "    print(f\"Function signature: {PromptEvaluator.__name__}{inspect.signature(PromptEvaluator)}\")\n",
    "except TypeError as e:\n",
    "    print(f\"Error: {e}\")\n",
    "    print(f\"Function signature: {PromptEvaluator.__name__}{inspect.signature(PromptEvaluator)}\")\n",
    "    print(PromptEvaluator.__init__.__code__.co_varnames)"
   ]
  },
  {
   "cell_type": "code",
   "execution_count": 14,
   "id": "ccf01f9c-76b1-4682-8a73-252e083da8f9",
   "metadata": {
    "tags": []
   },
   "outputs": [
    {
     "name": "stdout",
     "output_type": "stream",
     "text": [
      "Function parameters:\n"
     ]
    }
   ],
   "source": [
    "frame = inspect.currentframe()\n",
    "args, _, _, values = inspect.getargvalues(frame)\n",
    "print(\"Function parameters:\")\n",
    "for arg in args:\n",
    "    print(f\"{arg} = {values[arg]}\")"
   ]
  },
  {
   "cell_type": "code",
   "execution_count": 19,
   "id": "59914a49-88c2-4252-bd6a-7279e059dcfe",
   "metadata": {
    "tags": []
   },
   "outputs": [
    {
     "name": "stdout",
     "output_type": "stream",
     "text": [
      "This SVG path element <path d=\"M 78.01,21.13 L 69.60,22.72 L 77.07,62.39 L 85.49,60.81 L 78.01,21.13\"/> draws a\n",
      "Options:\n",
      "(A) circle\n",
      "(B) heptagon\n",
      "(C) hexagon\n",
      "(D) kite\n",
      "(E) line\n",
      "(F) octagon\n",
      "(G) pentagon\n",
      "(H) rectangle\n",
      "(I) sector\n",
      "(J) triangle\n",
      "(K) trapezoid\n"
     ]
    },
    {
     "name": "stderr",
     "output_type": "stream",
     "text": [
      "Evaluating Prompt:   0%|          | 0/100 [00:00<?, ?it/s]"
     ]
    },
    {
     "name": "stdout",
     "output_type": "stream",
     "text": [
      "in generate_target_model_response\n",
      "bedrock-2023-05-31\n",
      "Target: invoking bedrock body\n",
      "in generate_review_model_response\n",
      "review: invoking bedrock body\n"
     ]
    },
    {
     "name": "stderr",
     "output_type": "stream",
     "text": [
      "Evaluating Prompt:   1%|          | 1/100 [00:01<03:12,  1.94s/it]"
     ]
    },
    {
     "name": "stdout",
     "output_type": "stream",
     "text": [
      "{'id': 'msg_bdrk_014KTU1vyrS7m667ns6gCYCE', 'type': 'message', 'role': 'assistant', 'model': 'claude-3-haiku-20240307', 'content': [{'type': 'text', 'text': 'True'}], 'stop_reason': 'end_turn', 'stop_sequence': None, 'usage': {'input_tokens': 266, 'output_tokens': 4}}\n",
      "in generate_target_model_response\n",
      "bedrock-2023-05-31\n",
      "Target: invoking bedrock body\n"
     ]
    },
    {
     "name": "stderr",
     "output_type": "stream",
     "text": [
      "Evaluating Prompt:   2%|▏         | 2/100 [00:04<03:35,  2.20s/it]"
     ]
    },
    {
     "name": "stdout",
     "output_type": "stream",
     "text": [
      "in generate_review_model_response\n",
      "review: invoking bedrock body\n",
      "{'id': 'msg_bdrk_011gAYuF3TQWVfwoRw19yY8i', 'type': 'message', 'role': 'assistant', 'model': 'claude-3-haiku-20240307', 'content': [{'type': 'text', 'text': 'True'}], 'stop_reason': 'end_turn', 'stop_sequence': None, 'usage': {'input_tokens': 361, 'output_tokens': 4}}\n",
      "in generate_target_model_response\n",
      "bedrock-2023-05-31\n",
      "Target: invoking bedrock body\n"
     ]
    },
    {
     "name": "stderr",
     "output_type": "stream",
     "text": [
      "Evaluating Prompt:   3%|▎         | 3/100 [00:06<03:31,  2.18s/it]"
     ]
    },
    {
     "name": "stdout",
     "output_type": "stream",
     "text": [
      "in generate_review_model_response\n",
      "review: invoking bedrock body\n",
      "{'id': 'msg_bdrk_01DWsmeCNAboSsyvTtXBL1sB', 'type': 'message', 'role': 'assistant', 'model': 'claude-3-haiku-20240307', 'content': [{'type': 'text', 'text': 'False'}], 'stop_reason': 'end_turn', 'stop_sequence': None, 'usage': {'input_tokens': 306, 'output_tokens': 4}}\n",
      "in generate_target_model_response\n",
      "bedrock-2023-05-31\n",
      "Target: invoking bedrock body\n"
     ]
    },
    {
     "name": "stderr",
     "output_type": "stream",
     "text": [
      "Evaluating Prompt:   4%|▍         | 4/100 [00:08<03:19,  2.08s/it]"
     ]
    },
    {
     "name": "stdout",
     "output_type": "stream",
     "text": [
      "in generate_review_model_response\n",
      "review: invoking bedrock body\n",
      "{'id': 'msg_bdrk_0153yhLVugqGq6Kg3voxcN21', 'type': 'message', 'role': 'assistant', 'model': 'claude-3-haiku-20240307', 'content': [{'type': 'text', 'text': 'False'}], 'stop_reason': 'end_turn', 'stop_sequence': None, 'usage': {'input_tokens': 290, 'output_tokens': 4}}\n",
      "in generate_target_model_response\n",
      "bedrock-2023-05-31\n",
      "Target: invoking bedrock body\n"
     ]
    },
    {
     "name": "stderr",
     "output_type": "stream",
     "text": [
      "Evaluating Prompt:   5%|▌         | 5/100 [00:10<03:18,  2.09s/it]"
     ]
    },
    {
     "name": "stdout",
     "output_type": "stream",
     "text": [
      "in generate_review_model_response\n",
      "review: invoking bedrock body\n",
      "{'id': 'msg_bdrk_015csowBe52Wc4wVqx1npJps', 'type': 'message', 'role': 'assistant', 'model': 'claude-3-haiku-20240307', 'content': [{'type': 'text', 'text': 'False'}], 'stop_reason': 'end_turn', 'stop_sequence': None, 'usage': {'input_tokens': 262, 'output_tokens': 4}}\n",
      "in generate_target_model_response\n",
      "bedrock-2023-05-31\n",
      "Target: invoking bedrock body\n",
      "in generate_review_model_response\n",
      "review: invoking bedrock body\n"
     ]
    },
    {
     "name": "stderr",
     "output_type": "stream",
     "text": [
      "Evaluating Prompt:   6%|▌         | 6/100 [00:12<03:15,  2.08s/it]"
     ]
    },
    {
     "name": "stdout",
     "output_type": "stream",
     "text": [
      "{'id': 'msg_bdrk_01Xo9beQqp5K4Rk4cHjuJhj3', 'type': 'message', 'role': 'assistant', 'model': 'claude-3-haiku-20240307', 'content': [{'type': 'text', 'text': 'True'}], 'stop_reason': 'end_turn', 'stop_sequence': None, 'usage': {'input_tokens': 278, 'output_tokens': 4}}\n",
      "in generate_target_model_response\n",
      "bedrock-2023-05-31\n",
      "Target: invoking bedrock body\n"
     ]
    },
    {
     "name": "stderr",
     "output_type": "stream",
     "text": [
      "Evaluating Prompt:   7%|▋         | 7/100 [00:15<03:39,  2.36s/it]"
     ]
    },
    {
     "name": "stdout",
     "output_type": "stream",
     "text": [
      "in generate_review_model_response\n",
      "review: invoking bedrock body\n",
      "{'id': 'msg_bdrk_01Lsv5cjUP2TRZd9Jd7VZc6J', 'type': 'message', 'role': 'assistant', 'model': 'claude-3-haiku-20240307', 'content': [{'type': 'text', 'text': 'True'}], 'stop_reason': 'end_turn', 'stop_sequence': None, 'usage': {'input_tokens': 377, 'output_tokens': 4}}\n",
      "in generate_target_model_response\n",
      "bedrock-2023-05-31\n",
      "Target: invoking bedrock body\n"
     ]
    },
    {
     "name": "stderr",
     "output_type": "stream",
     "text": [
      "Evaluating Prompt:   8%|▊         | 8/100 [00:17<03:25,  2.24s/it]"
     ]
    },
    {
     "name": "stdout",
     "output_type": "stream",
     "text": [
      "in generate_review_model_response\n",
      "review: invoking bedrock body\n",
      "{'id': 'msg_bdrk_01Qe59F4tJdC254UxvWLVY4m', 'type': 'message', 'role': 'assistant', 'model': 'claude-3-haiku-20240307', 'content': [{'type': 'text', 'text': 'False'}], 'stop_reason': 'end_turn', 'stop_sequence': None, 'usage': {'input_tokens': 263, 'output_tokens': 4}}\n",
      "in generate_target_model_response\n",
      "bedrock-2023-05-31\n",
      "Target: invoking bedrock body\n"
     ]
    },
    {
     "name": "stderr",
     "output_type": "stream",
     "text": [
      "Evaluating Prompt:   9%|▉         | 9/100 [00:19<03:29,  2.31s/it]"
     ]
    },
    {
     "name": "stdout",
     "output_type": "stream",
     "text": [
      "in generate_review_model_response\n",
      "review: invoking bedrock body\n",
      "{'id': 'msg_bdrk_01KTPXVeMBPwu14ZrC57SM7q', 'type': 'message', 'role': 'assistant', 'model': 'claude-3-haiku-20240307', 'content': [{'type': 'text', 'text': 'False'}], 'stop_reason': 'end_turn', 'stop_sequence': None, 'usage': {'input_tokens': 357, 'output_tokens': 4}}\n",
      "in generate_target_model_response\n",
      "bedrock-2023-05-31\n",
      "Target: invoking bedrock body\n"
     ]
    },
    {
     "name": "stderr",
     "output_type": "stream",
     "text": [
      "Evaluating Prompt:  10%|█         | 10/100 [00:21<03:14,  2.16s/it]"
     ]
    },
    {
     "name": "stdout",
     "output_type": "stream",
     "text": [
      "in generate_review_model_response\n",
      "review: invoking bedrock body\n",
      "{'id': 'msg_bdrk_01Aw4Mu9C64gDKsxWGm8ZeRw', 'type': 'message', 'role': 'assistant', 'model': 'claude-3-haiku-20240307', 'content': [{'type': 'text', 'text': 'True'}], 'stop_reason': 'end_turn', 'stop_sequence': None, 'usage': {'input_tokens': 276, 'output_tokens': 4}}\n",
      "in generate_target_model_response\n",
      "bedrock-2023-05-31\n",
      "Target: invoking bedrock body\n"
     ]
    },
    {
     "name": "stderr",
     "output_type": "stream",
     "text": [
      "Evaluating Prompt:  11%|█         | 11/100 [00:24<03:18,  2.23s/it]"
     ]
    },
    {
     "name": "stdout",
     "output_type": "stream",
     "text": [
      "in generate_review_model_response\n",
      "review: invoking bedrock body\n",
      "{'id': 'msg_bdrk_01MMwyqv2mNVJ5EtjXPtBs3A', 'type': 'message', 'role': 'assistant', 'model': 'claude-3-haiku-20240307', 'content': [{'type': 'text', 'text': 'False'}], 'stop_reason': 'end_turn', 'stop_sequence': None, 'usage': {'input_tokens': 337, 'output_tokens': 4}}\n",
      "in generate_target_model_response\n",
      "bedrock-2023-05-31\n",
      "Target: invoking bedrock body\n",
      "in generate_review_model_response\n",
      "review: invoking bedrock body\n"
     ]
    },
    {
     "name": "stderr",
     "output_type": "stream",
     "text": [
      "Evaluating Prompt:  12%|█▏        | 12/100 [00:26<03:24,  2.32s/it]"
     ]
    },
    {
     "name": "stdout",
     "output_type": "stream",
     "text": [
      "{'id': 'msg_bdrk_013qxnfnou2V35fVJppev8Wz', 'type': 'message', 'role': 'assistant', 'model': 'claude-3-haiku-20240307', 'content': [{'type': 'text', 'text': 'False'}], 'stop_reason': 'end_turn', 'stop_sequence': None, 'usage': {'input_tokens': 411, 'output_tokens': 4}}\n",
      "in generate_target_model_response\n",
      "bedrock-2023-05-31\n",
      "Target: invoking bedrock body\n",
      "in generate_review_model_response\n",
      "review: invoking bedrock body\n"
     ]
    },
    {
     "name": "stderr",
     "output_type": "stream",
     "text": [
      "Evaluating Prompt:  13%|█▎        | 13/100 [00:29<03:36,  2.49s/it]"
     ]
    },
    {
     "name": "stdout",
     "output_type": "stream",
     "text": [
      "{'id': 'msg_bdrk_018XRneSai2mDzmmDYtHY4Xz', 'type': 'message', 'role': 'assistant', 'model': 'claude-3-haiku-20240307', 'content': [{'type': 'text', 'text': 'False'}], 'stop_reason': 'end_turn', 'stop_sequence': None, 'usage': {'input_tokens': 463, 'output_tokens': 4}}\n",
      "in generate_target_model_response\n",
      "bedrock-2023-05-31\n",
      "Target: invoking bedrock body\n"
     ]
    },
    {
     "name": "stderr",
     "output_type": "stream",
     "text": [
      "Evaluating Prompt:  14%|█▍        | 14/100 [00:31<03:15,  2.27s/it]"
     ]
    },
    {
     "name": "stdout",
     "output_type": "stream",
     "text": [
      "in generate_review_model_response\n",
      "review: invoking bedrock body\n",
      "{'id': 'msg_bdrk_01VyRtccatrLrjmCJKzqskvN', 'type': 'message', 'role': 'assistant', 'model': 'claude-3-haiku-20240307', 'content': [{'type': 'text', 'text': 'True'}], 'stop_reason': 'end_turn', 'stop_sequence': None, 'usage': {'input_tokens': 271, 'output_tokens': 4}}\n",
      "in generate_target_model_response\n",
      "bedrock-2023-05-31\n",
      "Target: invoking bedrock body\n"
     ]
    },
    {
     "name": "stderr",
     "output_type": "stream",
     "text": [
      "Evaluating Prompt:  15%|█▌        | 15/100 [00:33<03:08,  2.22s/it]"
     ]
    },
    {
     "name": "stdout",
     "output_type": "stream",
     "text": [
      "in generate_review_model_response\n",
      "review: invoking bedrock body\n",
      "{'id': 'msg_bdrk_01NYx2CEffB7jK1v3Sw4oVDv', 'type': 'message', 'role': 'assistant', 'model': 'claude-3-haiku-20240307', 'content': [{'type': 'text', 'text': 'False'}], 'stop_reason': 'end_turn', 'stop_sequence': None, 'usage': {'input_tokens': 322, 'output_tokens': 4}}\n",
      "in generate_target_model_response\n",
      "bedrock-2023-05-31\n",
      "Target: invoking bedrock body\n",
      "in generate_review_model_response\n",
      "review: invoking bedrock body\n"
     ]
    },
    {
     "name": "stderr",
     "output_type": "stream",
     "text": [
      "Evaluating Prompt:  16%|█▌        | 16/100 [00:36<03:33,  2.54s/it]"
     ]
    },
    {
     "name": "stdout",
     "output_type": "stream",
     "text": [
      "{'id': 'msg_bdrk_01XRn5Nxt1NWeurBaBRDf8Sx', 'type': 'message', 'role': 'assistant', 'model': 'claude-3-haiku-20240307', 'content': [{'type': 'text', 'text': 'False'}], 'stop_reason': 'end_turn', 'stop_sequence': None, 'usage': {'input_tokens': 517, 'output_tokens': 4}}\n",
      "in generate_target_model_response\n",
      "bedrock-2023-05-31\n",
      "Target: invoking bedrock body\n"
     ]
    },
    {
     "name": "stderr",
     "output_type": "stream",
     "text": [
      "Evaluating Prompt:  17%|█▋        | 17/100 [00:38<03:10,  2.30s/it]"
     ]
    },
    {
     "name": "stdout",
     "output_type": "stream",
     "text": [
      "in generate_review_model_response\n",
      "review: invoking bedrock body\n",
      "{'id': 'msg_bdrk_01HAGDqSBcc6z4xvurU6oQts', 'type': 'message', 'role': 'assistant', 'model': 'claude-3-haiku-20240307', 'content': [{'type': 'text', 'text': 'True'}], 'stop_reason': 'end_turn', 'stop_sequence': None, 'usage': {'input_tokens': 270, 'output_tokens': 4}}\n",
      "in generate_target_model_response\n",
      "bedrock-2023-05-31\n",
      "Target: invoking bedrock body\n"
     ]
    },
    {
     "name": "stderr",
     "output_type": "stream",
     "text": [
      "Evaluating Prompt:  18%|█▊        | 18/100 [00:41<03:24,  2.50s/it]"
     ]
    },
    {
     "name": "stdout",
     "output_type": "stream",
     "text": [
      "in generate_review_model_response\n",
      "review: invoking bedrock body\n",
      "{'id': 'msg_bdrk_01QQMqgu7Xq1iRQUV8mwm6a6', 'type': 'message', 'role': 'assistant', 'model': 'claude-3-haiku-20240307', 'content': [{'type': 'text', 'text': 'True'}], 'stop_reason': 'end_turn', 'stop_sequence': None, 'usage': {'input_tokens': 373, 'output_tokens': 4}}\n",
      "in generate_target_model_response\n",
      "bedrock-2023-05-31\n",
      "Target: invoking bedrock body\n"
     ]
    },
    {
     "name": "stderr",
     "output_type": "stream",
     "text": [
      "Evaluating Prompt:  19%|█▉        | 19/100 [00:43<03:17,  2.44s/it]"
     ]
    },
    {
     "name": "stdout",
     "output_type": "stream",
     "text": [
      "in generate_review_model_response\n",
      "review: invoking bedrock body\n",
      "{'id': 'msg_bdrk_015RYucB1UgEB46kAgW46Tko', 'type': 'message', 'role': 'assistant', 'model': 'claude-3-haiku-20240307', 'content': [{'type': 'text', 'text': 'False'}], 'stop_reason': 'end_turn', 'stop_sequence': None, 'usage': {'input_tokens': 340, 'output_tokens': 4}}\n",
      "in generate_target_model_response\n",
      "bedrock-2023-05-31\n",
      "Target: invoking bedrock body\n"
     ]
    },
    {
     "name": "stderr",
     "output_type": "stream",
     "text": [
      "Evaluating Prompt:  20%|██        | 20/100 [00:47<03:44,  2.80s/it]"
     ]
    },
    {
     "name": "stdout",
     "output_type": "stream",
     "text": [
      "in generate_review_model_response\n",
      "review: invoking bedrock body\n",
      "{'id': 'msg_bdrk_01EvvbasU64xSeGyJNmsx5Cw', 'type': 'message', 'role': 'assistant', 'model': 'claude-3-haiku-20240307', 'content': [{'type': 'text', 'text': 'True'}], 'stop_reason': 'end_turn', 'stop_sequence': None, 'usage': {'input_tokens': 465, 'output_tokens': 4}}\n",
      "in generate_target_model_response\n",
      "bedrock-2023-05-31\n",
      "Target: invoking bedrock body\n"
     ]
    },
    {
     "name": "stderr",
     "output_type": "stream",
     "text": [
      "Evaluating Prompt:  21%|██        | 21/100 [00:50<03:50,  2.91s/it]"
     ]
    },
    {
     "name": "stdout",
     "output_type": "stream",
     "text": [
      "in generate_review_model_response\n",
      "review: invoking bedrock body\n",
      "{'id': 'msg_bdrk_018VEKnzGj58erEJLCXumW5h', 'type': 'message', 'role': 'assistant', 'model': 'claude-3-haiku-20240307', 'content': [{'type': 'text', 'text': 'True'}], 'stop_reason': 'end_turn', 'stop_sequence': None, 'usage': {'input_tokens': 412, 'output_tokens': 4}}\n",
      "in generate_target_model_response\n",
      "bedrock-2023-05-31\n",
      "Target: invoking bedrock body\n"
     ]
    },
    {
     "name": "stderr",
     "output_type": "stream",
     "text": [
      "Evaluating Prompt:  22%|██▏       | 22/100 [00:52<03:27,  2.66s/it]"
     ]
    },
    {
     "name": "stdout",
     "output_type": "stream",
     "text": [
      "in generate_review_model_response\n",
      "review: invoking bedrock body\n",
      "{'id': 'msg_bdrk_01TdhxPV3phyZcaLJQL2MmWW', 'type': 'message', 'role': 'assistant', 'model': 'claude-3-haiku-20240307', 'content': [{'type': 'text', 'text': 'False'}], 'stop_reason': 'end_turn', 'stop_sequence': None, 'usage': {'input_tokens': 286, 'output_tokens': 4}}\n",
      "in generate_target_model_response\n",
      "bedrock-2023-05-31\n",
      "Target: invoking bedrock body\n"
     ]
    },
    {
     "name": "stderr",
     "output_type": "stream",
     "text": [
      "Evaluating Prompt:  23%|██▎       | 23/100 [00:55<03:34,  2.78s/it]"
     ]
    },
    {
     "name": "stdout",
     "output_type": "stream",
     "text": [
      "in generate_review_model_response\n",
      "review: invoking bedrock body\n",
      "{'id': 'msg_bdrk_01VSQBDgEvr55iR9SY7LnSxv', 'type': 'message', 'role': 'assistant', 'model': 'claude-3-haiku-20240307', 'content': [{'type': 'text', 'text': 'False'}], 'stop_reason': 'end_turn', 'stop_sequence': None, 'usage': {'input_tokens': 455, 'output_tokens': 4}}\n",
      "in generate_target_model_response\n",
      "bedrock-2023-05-31\n",
      "Target: invoking bedrock body\n"
     ]
    },
    {
     "name": "stderr",
     "output_type": "stream",
     "text": [
      "Evaluating Prompt:  24%|██▍       | 24/100 [00:59<03:43,  2.95s/it]"
     ]
    },
    {
     "name": "stdout",
     "output_type": "stream",
     "text": [
      "in generate_review_model_response\n",
      "review: invoking bedrock body\n",
      "{'id': 'msg_bdrk_01GfABiygtM2ChJT3EqSvWoi', 'type': 'message', 'role': 'assistant', 'model': 'claude-3-haiku-20240307', 'content': [{'type': 'text', 'text': 'False'}], 'stop_reason': 'end_turn', 'stop_sequence': None, 'usage': {'input_tokens': 281, 'output_tokens': 4}}\n",
      "in generate_target_model_response\n",
      "bedrock-2023-05-31\n",
      "Target: invoking bedrock body\n",
      "in generate_review_model_response\n",
      "review: invoking bedrock body\n"
     ]
    },
    {
     "name": "stderr",
     "output_type": "stream",
     "text": [
      "Evaluating Prompt:  25%|██▌       | 25/100 [01:00<03:16,  2.62s/it]"
     ]
    },
    {
     "name": "stdout",
     "output_type": "stream",
     "text": [
      "{'id': 'msg_bdrk_01TK7bQHx3p9iueUAVW4ixZo', 'type': 'message', 'role': 'assistant', 'model': 'claude-3-haiku-20240307', 'content': [{'type': 'text', 'text': 'False'}], 'stop_reason': 'end_turn', 'stop_sequence': None, 'usage': {'input_tokens': 262, 'output_tokens': 4}}\n",
      "in generate_target_model_response\n",
      "bedrock-2023-05-31\n",
      "Target: invoking bedrock body\n"
     ]
    },
    {
     "name": "stderr",
     "output_type": "stream",
     "text": [
      "Evaluating Prompt:  26%|██▌       | 26/100 [01:04<03:25,  2.78s/it]"
     ]
    },
    {
     "name": "stdout",
     "output_type": "stream",
     "text": [
      "in generate_review_model_response\n",
      "review: invoking bedrock body\n",
      "{'id': 'msg_bdrk_019EjeWxzAsrruwtqLsVc37P', 'type': 'message', 'role': 'assistant', 'model': 'claude-3-haiku-20240307', 'content': [{'type': 'text', 'text': 'False'}], 'stop_reason': 'end_turn', 'stop_sequence': None, 'usage': {'input_tokens': 337, 'output_tokens': 4}}\n",
      "in generate_target_model_response\n",
      "bedrock-2023-05-31\n",
      "Target: invoking bedrock body\n"
     ]
    },
    {
     "name": "stderr",
     "output_type": "stream",
     "text": [
      "Evaluating Prompt:  27%|██▋       | 27/100 [01:06<03:08,  2.58s/it]"
     ]
    },
    {
     "name": "stdout",
     "output_type": "stream",
     "text": [
      "in generate_review_model_response\n",
      "review: invoking bedrock body\n",
      "{'id': 'msg_bdrk_01W1cxvBqw7n4a8WuhBN5YXU', 'type': 'message', 'role': 'assistant', 'model': 'claude-3-haiku-20240307', 'content': [{'type': 'text', 'text': 'False'}], 'stop_reason': 'end_turn', 'stop_sequence': None, 'usage': {'input_tokens': 284, 'output_tokens': 4}}\n",
      "in generate_target_model_response\n",
      "bedrock-2023-05-31\n",
      "Target: invoking bedrock body\n",
      "in generate_review_model_response\n",
      "review: invoking bedrock body\n"
     ]
    },
    {
     "name": "stderr",
     "output_type": "stream",
     "text": [
      "Evaluating Prompt:  28%|██▊       | 28/100 [01:08<03:10,  2.65s/it]"
     ]
    },
    {
     "name": "stdout",
     "output_type": "stream",
     "text": [
      "{'id': 'msg_bdrk_019yeBQ3EbkFR3BQKQnAc4r5', 'type': 'message', 'role': 'assistant', 'model': 'claude-3-haiku-20240307', 'content': [{'type': 'text', 'text': 'True'}], 'stop_reason': 'end_turn', 'stop_sequence': None, 'usage': {'input_tokens': 403, 'output_tokens': 4}}\n",
      "in generate_target_model_response\n",
      "bedrock-2023-05-31\n",
      "Target: invoking bedrock body\n"
     ]
    },
    {
     "name": "stderr",
     "output_type": "stream",
     "text": [
      "Evaluating Prompt:  29%|██▉       | 29/100 [01:12<03:18,  2.79s/it]"
     ]
    },
    {
     "name": "stdout",
     "output_type": "stream",
     "text": [
      "in generate_review_model_response\n",
      "review: invoking bedrock body\n",
      "{'id': 'msg_bdrk_01Y1B6zH2TnuCAmFNHUcJLYB', 'type': 'message', 'role': 'assistant', 'model': 'claude-3-haiku-20240307', 'content': [{'type': 'text', 'text': 'False'}], 'stop_reason': 'end_turn', 'stop_sequence': None, 'usage': {'input_tokens': 477, 'output_tokens': 4}}\n",
      "in generate_target_model_response\n",
      "bedrock-2023-05-31\n",
      "Target: invoking bedrock body\n",
      "in generate_review_model_response\n",
      "review: invoking bedrock body\n"
     ]
    },
    {
     "name": "stderr",
     "output_type": "stream",
     "text": [
      "Evaluating Prompt:  30%|███       | 30/100 [01:15<03:18,  2.84s/it]"
     ]
    },
    {
     "name": "stdout",
     "output_type": "stream",
     "text": [
      "{'id': 'msg_bdrk_013GT9VDnhviQjQ5SNRhqu73', 'type': 'message', 'role': 'assistant', 'model': 'claude-3-haiku-20240307', 'content': [{'type': 'text', 'text': 'False'}], 'stop_reason': 'end_turn', 'stop_sequence': None, 'usage': {'input_tokens': 416, 'output_tokens': 4}}\n",
      "in generate_target_model_response\n",
      "bedrock-2023-05-31\n",
      "Target: invoking bedrock body\n"
     ]
    },
    {
     "name": "stderr",
     "output_type": "stream",
     "text": [
      "Evaluating Prompt:  31%|███       | 31/100 [01:18<03:21,  2.93s/it]"
     ]
    },
    {
     "name": "stdout",
     "output_type": "stream",
     "text": [
      "in generate_review_model_response\n",
      "review: invoking bedrock body\n",
      "{'id': 'msg_bdrk_01S5KEmBdDbPc2TjxnZQUa3b', 'type': 'message', 'role': 'assistant', 'model': 'claude-3-haiku-20240307', 'content': [{'type': 'text', 'text': 'False'}], 'stop_reason': 'end_turn', 'stop_sequence': None, 'usage': {'input_tokens': 444, 'output_tokens': 4}}\n",
      "in generate_target_model_response\n",
      "bedrock-2023-05-31\n",
      "Target: invoking bedrock body\n"
     ]
    },
    {
     "name": "stderr",
     "output_type": "stream",
     "text": [
      "Evaluating Prompt:  32%|███▏      | 32/100 [01:19<02:53,  2.55s/it]"
     ]
    },
    {
     "name": "stdout",
     "output_type": "stream",
     "text": [
      "in generate_review_model_response\n",
      "review: invoking bedrock body\n",
      "{'id': 'msg_bdrk_01RsnpUWaFnhhEVFjd4rYdjA', 'type': 'message', 'role': 'assistant', 'model': 'claude-3-haiku-20240307', 'content': [{'type': 'text', 'text': 'False'}], 'stop_reason': 'end_turn', 'stop_sequence': None, 'usage': {'input_tokens': 293, 'output_tokens': 4}}\n",
      "in generate_target_model_response\n",
      "bedrock-2023-05-31\n",
      "Target: invoking bedrock body\n"
     ]
    },
    {
     "name": "stderr",
     "output_type": "stream",
     "text": [
      "Evaluating Prompt:  33%|███▎      | 33/100 [01:21<02:42,  2.42s/it]"
     ]
    },
    {
     "name": "stdout",
     "output_type": "stream",
     "text": [
      "in generate_review_model_response\n",
      "review: invoking bedrock body\n",
      "{'id': 'msg_bdrk_01MzRMHdW9PqYTPsMEaoqe9d', 'type': 'message', 'role': 'assistant', 'model': 'claude-3-haiku-20240307', 'content': [{'type': 'text', 'text': 'True'}], 'stop_reason': 'end_turn', 'stop_sequence': None, 'usage': {'input_tokens': 291, 'output_tokens': 4}}\n",
      "in generate_target_model_response\n",
      "bedrock-2023-05-31\n",
      "Target: invoking bedrock body\n"
     ]
    },
    {
     "name": "stderr",
     "output_type": "stream",
     "text": [
      "Evaluating Prompt:  34%|███▍      | 34/100 [01:24<02:43,  2.48s/it]"
     ]
    },
    {
     "name": "stdout",
     "output_type": "stream",
     "text": [
      "in generate_review_model_response\n",
      "review: invoking bedrock body\n",
      "{'id': 'msg_bdrk_01GpTCKtcKiPWBCZ7pfKrFeS', 'type': 'message', 'role': 'assistant', 'model': 'claude-3-haiku-20240307', 'content': [{'type': 'text', 'text': 'True'}], 'stop_reason': 'end_turn', 'stop_sequence': None, 'usage': {'input_tokens': 407, 'output_tokens': 4}}\n",
      "in generate_target_model_response\n",
      "bedrock-2023-05-31\n",
      "Target: invoking bedrock body\n",
      "in generate_review_model_response\n",
      "review: invoking bedrock body\n"
     ]
    },
    {
     "name": "stderr",
     "output_type": "stream",
     "text": [
      "Evaluating Prompt:  35%|███▌      | 35/100 [01:26<02:31,  2.33s/it]"
     ]
    },
    {
     "name": "stdout",
     "output_type": "stream",
     "text": [
      "{'id': 'msg_bdrk_01AFUyjzuCQbgZoLeBxyKQgn', 'type': 'message', 'role': 'assistant', 'model': 'claude-3-haiku-20240307', 'content': [{'type': 'text', 'text': 'False'}], 'stop_reason': 'end_turn', 'stop_sequence': None, 'usage': {'input_tokens': 297, 'output_tokens': 4}}\n",
      "in generate_target_model_response\n",
      "bedrock-2023-05-31\n",
      "Target: invoking bedrock body\n"
     ]
    },
    {
     "name": "stderr",
     "output_type": "stream",
     "text": [
      "Evaluating Prompt:  36%|███▌      | 36/100 [01:30<02:51,  2.69s/it]"
     ]
    },
    {
     "name": "stdout",
     "output_type": "stream",
     "text": [
      "in generate_review_model_response\n",
      "review: invoking bedrock body\n",
      "{'id': 'msg_bdrk_01DpfnjhTQCjdMHyVeYT5qXE', 'type': 'message', 'role': 'assistant', 'model': 'claude-3-haiku-20240307', 'content': [{'type': 'text', 'text': 'True'}], 'stop_reason': 'end_turn', 'stop_sequence': None, 'usage': {'input_tokens': 503, 'output_tokens': 4}}\n",
      "in generate_target_model_response\n",
      "bedrock-2023-05-31\n",
      "Target: invoking bedrock body\n",
      "in generate_review_model_response\n",
      "review: invoking bedrock body\n"
     ]
    },
    {
     "name": "stderr",
     "output_type": "stream",
     "text": [
      "Evaluating Prompt:  37%|███▋      | 37/100 [01:33<03:10,  3.03s/it]"
     ]
    },
    {
     "name": "stdout",
     "output_type": "stream",
     "text": [
      "{'id': 'msg_bdrk_01V4gxScp8AvhT1p5WaPGVQV', 'type': 'message', 'role': 'assistant', 'model': 'claude-3-haiku-20240307', 'content': [{'type': 'text', 'text': 'True'}], 'stop_reason': 'end_turn', 'stop_sequence': None, 'usage': {'input_tokens': 411, 'output_tokens': 4}}\n",
      "in generate_target_model_response\n",
      "bedrock-2023-05-31\n",
      "Target: invoking bedrock body\n"
     ]
    },
    {
     "name": "stderr",
     "output_type": "stream",
     "text": [
      "Evaluating Prompt:  38%|███▊      | 38/100 [01:36<02:51,  2.77s/it]"
     ]
    },
    {
     "name": "stdout",
     "output_type": "stream",
     "text": [
      "in generate_review_model_response\n",
      "review: invoking bedrock body\n",
      "{'id': 'msg_bdrk_0155pufepPpgYukZpRLvyA74', 'type': 'message', 'role': 'assistant', 'model': 'claude-3-haiku-20240307', 'content': [{'type': 'text', 'text': 'False'}], 'stop_reason': 'end_turn', 'stop_sequence': None, 'usage': {'input_tokens': 321, 'output_tokens': 4}}\n",
      "in generate_target_model_response\n",
      "bedrock-2023-05-31\n",
      "Target: invoking bedrock body\n"
     ]
    },
    {
     "name": "stderr",
     "output_type": "stream",
     "text": [
      "Evaluating Prompt:  39%|███▉      | 39/100 [01:39<02:59,  2.94s/it]"
     ]
    },
    {
     "name": "stdout",
     "output_type": "stream",
     "text": [
      "in generate_review_model_response\n",
      "review: invoking bedrock body\n",
      "{'id': 'msg_bdrk_016EjnAp4FxP1eycNnqz5haC', 'type': 'message', 'role': 'assistant', 'model': 'claude-3-haiku-20240307', 'content': [{'type': 'text', 'text': 'False'}], 'stop_reason': 'end_turn', 'stop_sequence': None, 'usage': {'input_tokens': 440, 'output_tokens': 4}}\n",
      "in generate_target_model_response\n",
      "bedrock-2023-05-31\n",
      "Target: invoking bedrock body\n",
      "in generate_review_model_response\n",
      "review: invoking bedrock body\n"
     ]
    },
    {
     "name": "stderr",
     "output_type": "stream",
     "text": [
      "Evaluating Prompt:  40%|████      | 40/100 [01:41<02:48,  2.81s/it]"
     ]
    },
    {
     "name": "stdout",
     "output_type": "stream",
     "text": [
      "{'id': 'msg_bdrk_01PdrHMArN2FZCnf5MCVwuUc', 'type': 'message', 'role': 'assistant', 'model': 'claude-3-haiku-20240307', 'content': [{'type': 'text', 'text': 'True'}], 'stop_reason': 'end_turn', 'stop_sequence': None, 'usage': {'input_tokens': 365, 'output_tokens': 4}}\n",
      "in generate_target_model_response\n",
      "bedrock-2023-05-31\n",
      "Target: invoking bedrock body\n"
     ]
    },
    {
     "name": "stderr",
     "output_type": "stream",
     "text": [
      "Evaluating Prompt:  41%|████      | 41/100 [01:45<03:02,  3.09s/it]"
     ]
    },
    {
     "name": "stdout",
     "output_type": "stream",
     "text": [
      "in generate_review_model_response\n",
      "review: invoking bedrock body\n",
      "{'id': 'msg_bdrk_01QtDnPHNBKfy58o9ttEGEYB', 'type': 'message', 'role': 'assistant', 'model': 'claude-3-haiku-20240307', 'content': [{'type': 'text', 'text': 'False'}], 'stop_reason': 'end_turn', 'stop_sequence': None, 'usage': {'input_tokens': 480, 'output_tokens': 4}}\n",
      "in generate_target_model_response\n",
      "bedrock-2023-05-31\n",
      "Target: invoking bedrock body\n",
      "in generate_review_model_response\n",
      "review: invoking bedrock body\n"
     ]
    },
    {
     "name": "stderr",
     "output_type": "stream",
     "text": [
      "Evaluating Prompt:  42%|████▏     | 42/100 [01:48<03:01,  3.12s/it]"
     ]
    },
    {
     "name": "stdout",
     "output_type": "stream",
     "text": [
      "{'id': 'msg_bdrk_01RjTAt7sZYhZ5UXN66fcnc6', 'type': 'message', 'role': 'assistant', 'model': 'claude-3-haiku-20240307', 'content': [{'type': 'text', 'text': 'True'}], 'stop_reason': 'end_turn', 'stop_sequence': None, 'usage': {'input_tokens': 379, 'output_tokens': 4}}\n",
      "in generate_target_model_response\n",
      "bedrock-2023-05-31\n",
      "Target: invoking bedrock body\n"
     ]
    },
    {
     "name": "stderr",
     "output_type": "stream",
     "text": [
      "Evaluating Prompt:  43%|████▎     | 43/100 [01:51<02:49,  2.97s/it]"
     ]
    },
    {
     "name": "stdout",
     "output_type": "stream",
     "text": [
      "in generate_review_model_response\n",
      "review: invoking bedrock body\n",
      "{'id': 'msg_bdrk_01CnLyVUf9GYma54F2iJG6CE', 'type': 'message', 'role': 'assistant', 'model': 'claude-3-haiku-20240307', 'content': [{'type': 'text', 'text': 'False'}], 'stop_reason': 'end_turn', 'stop_sequence': None, 'usage': {'input_tokens': 349, 'output_tokens': 4}}\n",
      "in generate_target_model_response\n",
      "bedrock-2023-05-31\n",
      "Target: invoking bedrock body\n"
     ]
    },
    {
     "name": "stderr",
     "output_type": "stream",
     "text": [
      "Evaluating Prompt:  44%|████▍     | 44/100 [01:54<02:46,  2.97s/it]"
     ]
    },
    {
     "name": "stdout",
     "output_type": "stream",
     "text": [
      "in generate_review_model_response\n",
      "review: invoking bedrock body\n",
      "{'id': 'msg_bdrk_015ZDEjbXk2MRngcvZvzBein', 'type': 'message', 'role': 'assistant', 'model': 'claude-3-haiku-20240307', 'content': [{'type': 'text', 'text': 'False'}], 'stop_reason': 'end_turn', 'stop_sequence': None, 'usage': {'input_tokens': 437, 'output_tokens': 4}}\n",
      "in generate_target_model_response\n",
      "bedrock-2023-05-31\n",
      "Target: invoking bedrock body\n",
      "in generate_review_model_response\n",
      "review: invoking bedrock body\n"
     ]
    },
    {
     "name": "stderr",
     "output_type": "stream",
     "text": [
      "Evaluating Prompt:  45%|████▌     | 45/100 [01:57<02:46,  3.03s/it]"
     ]
    },
    {
     "name": "stdout",
     "output_type": "stream",
     "text": [
      "{'id': 'msg_bdrk_01Vi8erLysLJt8iG137Mma4j', 'type': 'message', 'role': 'assistant', 'model': 'claude-3-haiku-20240307', 'content': [{'type': 'text', 'text': 'False'}], 'stop_reason': 'end_turn', 'stop_sequence': None, 'usage': {'input_tokens': 512, 'output_tokens': 4}}\n",
      "in generate_target_model_response\n",
      "bedrock-2023-05-31\n",
      "Target: invoking bedrock body\n"
     ]
    },
    {
     "name": "stderr",
     "output_type": "stream",
     "text": [
      "Evaluating Prompt:  46%|████▌     | 46/100 [01:59<02:20,  2.60s/it]"
     ]
    },
    {
     "name": "stdout",
     "output_type": "stream",
     "text": [
      "in generate_review_model_response\n",
      "review: invoking bedrock body\n",
      "{'id': 'msg_bdrk_01WznhHt6DErHfFhKb5auqrZ', 'type': 'message', 'role': 'assistant', 'model': 'claude-3-haiku-20240307', 'content': [{'type': 'text', 'text': 'True'}], 'stop_reason': 'end_turn', 'stop_sequence': None, 'usage': {'input_tokens': 272, 'output_tokens': 4}}\n",
      "in generate_target_model_response\n",
      "bedrock-2023-05-31\n",
      "Target: invoking bedrock body\n",
      "in generate_review_model_response\n",
      "review: invoking bedrock body\n"
     ]
    },
    {
     "name": "stderr",
     "output_type": "stream",
     "text": [
      "Evaluating Prompt:  47%|████▋     | 47/100 [02:01<02:19,  2.64s/it]"
     ]
    },
    {
     "name": "stdout",
     "output_type": "stream",
     "text": [
      "{'id': 'msg_bdrk_01AZfKJr7JCmG15tkKVctzXR', 'type': 'message', 'role': 'assistant', 'model': 'claude-3-haiku-20240307', 'content': [{'type': 'text', 'text': 'False'}], 'stop_reason': 'end_turn', 'stop_sequence': None, 'usage': {'input_tokens': 311, 'output_tokens': 4}}\n",
      "in generate_target_model_response\n",
      "bedrock-2023-05-31\n",
      "Target: invoking bedrock body\n"
     ]
    },
    {
     "name": "stderr",
     "output_type": "stream",
     "text": [
      "Evaluating Prompt:  48%|████▊     | 48/100 [02:04<02:22,  2.74s/it]"
     ]
    },
    {
     "name": "stdout",
     "output_type": "stream",
     "text": [
      "in generate_review_model_response\n",
      "review: invoking bedrock body\n",
      "{'id': 'msg_bdrk_01DQEMGuEiv68cmYZDT25yQs', 'type': 'message', 'role': 'assistant', 'model': 'claude-3-haiku-20240307', 'content': [{'type': 'text', 'text': 'False'}], 'stop_reason': 'end_turn', 'stop_sequence': None, 'usage': {'input_tokens': 414, 'output_tokens': 4}}\n",
      "in generate_target_model_response\n",
      "bedrock-2023-05-31\n",
      "Target: invoking bedrock body\n"
     ]
    },
    {
     "name": "stderr",
     "output_type": "stream",
     "text": [
      "Evaluating Prompt:  49%|████▉     | 49/100 [02:06<02:05,  2.46s/it]"
     ]
    },
    {
     "name": "stdout",
     "output_type": "stream",
     "text": [
      "in generate_review_model_response\n",
      "review: invoking bedrock body\n",
      "{'id': 'msg_bdrk_01SFS3ynfHLnRLR3izfEtJKL', 'type': 'message', 'role': 'assistant', 'model': 'claude-3-haiku-20240307', 'content': [{'type': 'text', 'text': 'False'}], 'stop_reason': 'end_turn', 'stop_sequence': None, 'usage': {'input_tokens': 290, 'output_tokens': 4}}\n",
      "in generate_target_model_response\n",
      "bedrock-2023-05-31\n",
      "Target: invoking bedrock body\n"
     ]
    },
    {
     "name": "stderr",
     "output_type": "stream",
     "text": [
      "Evaluating Prompt:  50%|█████     | 50/100 [02:09<02:06,  2.53s/it]"
     ]
    },
    {
     "name": "stdout",
     "output_type": "stream",
     "text": [
      "in generate_review_model_response\n",
      "review: invoking bedrock body\n",
      "{'id': 'msg_bdrk_01TcPjwUTG7Npj1gkS6uYAiT', 'type': 'message', 'role': 'assistant', 'model': 'claude-3-haiku-20240307', 'content': [{'type': 'text', 'text': 'False'}], 'stop_reason': 'end_turn', 'stop_sequence': None, 'usage': {'input_tokens': 342, 'output_tokens': 4}}\n",
      "in generate_target_model_response\n",
      "bedrock-2023-05-31\n",
      "Target: invoking bedrock body\n",
      "in generate_review_model_response\n",
      "review: invoking bedrock body\n"
     ]
    },
    {
     "name": "stderr",
     "output_type": "stream",
     "text": [
      "Evaluating Prompt:  51%|█████     | 51/100 [02:13<02:20,  2.86s/it]"
     ]
    },
    {
     "name": "stdout",
     "output_type": "stream",
     "text": [
      "{'id': 'msg_bdrk_013GKxqT9GzJGVK7fFj4uvB7', 'type': 'message', 'role': 'assistant', 'model': 'claude-3-haiku-20240307', 'content': [{'type': 'text', 'text': 'False'}], 'stop_reason': 'end_turn', 'stop_sequence': None, 'usage': {'input_tokens': 568, 'output_tokens': 4}}\n",
      "in generate_target_model_response\n",
      "bedrock-2023-05-31\n",
      "Target: invoking bedrock body\n",
      "in generate_review_model_response\n",
      "review: invoking bedrock body\n",
      "{'id': 'msg_bdrk_01PKexbchp3L554BSVG87mi1', 'type': 'message', 'role': 'assistant', 'model': 'claude-3-haiku-20240307', 'content': [{'type': 'text', 'text': 'True'}], 'stop_reason': 'end_turn', 'stop_sequence': None, 'usage': {'input_tokens': 396, 'output_tokens': 4}}\n"
     ]
    },
    {
     "name": "stderr",
     "output_type": "stream",
     "text": [
      "Evaluating Prompt:  52%|█████▏    | 52/100 [02:16<02:22,  2.96s/it]"
     ]
    },
    {
     "name": "stdout",
     "output_type": "stream",
     "text": [
      "in generate_target_model_response\n",
      "bedrock-2023-05-31\n",
      "Target: invoking bedrock body\n"
     ]
    },
    {
     "name": "stderr",
     "output_type": "stream",
     "text": [
      "Evaluating Prompt:  53%|█████▎    | 53/100 [02:19<02:23,  3.04s/it]"
     ]
    },
    {
     "name": "stdout",
     "output_type": "stream",
     "text": [
      "in generate_review_model_response\n",
      "review: invoking bedrock body\n",
      "{'id': 'msg_bdrk_01TqBy9mKro8rRayvM68Cwdm', 'type': 'message', 'role': 'assistant', 'model': 'claude-3-haiku-20240307', 'content': [{'type': 'text', 'text': 'False'}], 'stop_reason': 'end_turn', 'stop_sequence': None, 'usage': {'input_tokens': 494, 'output_tokens': 4}}\n",
      "in generate_target_model_response\n",
      "bedrock-2023-05-31\n",
      "Target: invoking bedrock body\n"
     ]
    },
    {
     "name": "stderr",
     "output_type": "stream",
     "text": [
      "Evaluating Prompt:  54%|█████▍    | 54/100 [02:21<02:07,  2.77s/it]"
     ]
    },
    {
     "name": "stdout",
     "output_type": "stream",
     "text": [
      "in generate_review_model_response\n",
      "review: invoking bedrock body\n",
      "{'id': 'msg_bdrk_01AroUjqvVbQYbRZgyNPQ2WN', 'type': 'message', 'role': 'assistant', 'model': 'claude-3-haiku-20240307', 'content': [{'type': 'text', 'text': 'False'}], 'stop_reason': 'end_turn', 'stop_sequence': None, 'usage': {'input_tokens': 293, 'output_tokens': 4}}\n",
      "in generate_target_model_response\n",
      "bedrock-2023-05-31\n",
      "Target: invoking bedrock body\n"
     ]
    },
    {
     "name": "stderr",
     "output_type": "stream",
     "text": [
      "Evaluating Prompt:  55%|█████▌    | 55/100 [02:25<02:14,  2.99s/it]"
     ]
    },
    {
     "name": "stdout",
     "output_type": "stream",
     "text": [
      "in generate_review_model_response\n",
      "review: invoking bedrock body\n",
      "{'id': 'msg_bdrk_017m8RRKAcQrFkCNA5Ps8NSh', 'type': 'message', 'role': 'assistant', 'model': 'claude-3-haiku-20240307', 'content': [{'type': 'text', 'text': 'False'}], 'stop_reason': 'end_turn', 'stop_sequence': None, 'usage': {'input_tokens': 475, 'output_tokens': 4}}\n",
      "in generate_target_model_response\n",
      "bedrock-2023-05-31\n",
      "Target: invoking bedrock body\n"
     ]
    },
    {
     "name": "stderr",
     "output_type": "stream",
     "text": [
      "Evaluating Prompt:  56%|█████▌    | 56/100 [02:27<01:59,  2.71s/it]"
     ]
    },
    {
     "name": "stdout",
     "output_type": "stream",
     "text": [
      "in generate_review_model_response\n",
      "review: invoking bedrock body\n",
      "{'id': 'msg_bdrk_01F1UxNuvNT1sRXgno58ZBnD', 'type': 'message', 'role': 'assistant', 'model': 'claude-3-haiku-20240307', 'content': [{'type': 'text', 'text': 'True'}], 'stop_reason': 'end_turn', 'stop_sequence': None, 'usage': {'input_tokens': 289, 'output_tokens': 4}}\n",
      "in generate_target_model_response\n",
      "bedrock-2023-05-31\n",
      "Target: invoking bedrock body\n",
      "in generate_review_model_response\n",
      "review: invoking bedrock body\n"
     ]
    },
    {
     "name": "stderr",
     "output_type": "stream",
     "text": [
      "Evaluating Prompt:  57%|█████▋    | 57/100 [02:30<02:07,  2.96s/it]"
     ]
    },
    {
     "name": "stdout",
     "output_type": "stream",
     "text": [
      "{'id': 'msg_bdrk_01JHzGgGmuM7FUfxdxyiSJ7s', 'type': 'message', 'role': 'assistant', 'model': 'claude-3-haiku-20240307', 'content': [{'type': 'text', 'text': 'False'}], 'stop_reason': 'end_turn', 'stop_sequence': None, 'usage': {'input_tokens': 498, 'output_tokens': 4}}\n",
      "in generate_target_model_response\n",
      "bedrock-2023-05-31\n",
      "Target: invoking bedrock body\n"
     ]
    },
    {
     "name": "stderr",
     "output_type": "stream",
     "text": [
      "Evaluating Prompt:  58%|█████▊    | 58/100 [02:33<01:56,  2.78s/it]"
     ]
    },
    {
     "name": "stdout",
     "output_type": "stream",
     "text": [
      "in generate_review_model_response\n",
      "review: invoking bedrock body\n",
      "{'id': 'msg_bdrk_01SLMArK34xdz2LRq475im3h', 'type': 'message', 'role': 'assistant', 'model': 'claude-3-haiku-20240307', 'content': [{'type': 'text', 'text': 'False'}], 'stop_reason': 'end_turn', 'stop_sequence': None, 'usage': {'input_tokens': 317, 'output_tokens': 4}}\n",
      "in generate_target_model_response\n",
      "bedrock-2023-05-31\n",
      "Target: invoking bedrock body\n"
     ]
    },
    {
     "name": "stderr",
     "output_type": "stream",
     "text": [
      "Evaluating Prompt:  59%|█████▉    | 59/100 [02:37<02:15,  3.30s/it]"
     ]
    },
    {
     "name": "stdout",
     "output_type": "stream",
     "text": [
      "in generate_review_model_response\n",
      "review: invoking bedrock body\n",
      "{'id': 'msg_bdrk_019w3MNbdsTtGKajgWNhnaAF', 'type': 'message', 'role': 'assistant', 'model': 'claude-3-haiku-20240307', 'content': [{'type': 'text', 'text': 'True'}], 'stop_reason': 'end_turn', 'stop_sequence': None, 'usage': {'input_tokens': 491, 'output_tokens': 4}}\n",
      "in generate_target_model_response\n",
      "bedrock-2023-05-31\n",
      "Target: invoking bedrock body\n"
     ]
    },
    {
     "name": "stderr",
     "output_type": "stream",
     "text": [
      "Evaluating Prompt:  60%|██████    | 60/100 [02:39<01:53,  2.84s/it]"
     ]
    },
    {
     "name": "stdout",
     "output_type": "stream",
     "text": [
      "in generate_review_model_response\n",
      "review: invoking bedrock body\n",
      "{'id': 'msg_bdrk_01JNbS5SDy4T1MAAjkVbtY6r', 'type': 'message', 'role': 'assistant', 'model': 'claude-3-haiku-20240307', 'content': [{'type': 'text', 'text': 'True'}], 'stop_reason': 'end_turn', 'stop_sequence': None, 'usage': {'input_tokens': 278, 'output_tokens': 4}}\n",
      "in generate_target_model_response\n",
      "bedrock-2023-05-31\n",
      "Target: invoking bedrock body\n"
     ]
    },
    {
     "name": "stderr",
     "output_type": "stream",
     "text": [
      "Evaluating Prompt:  61%|██████    | 61/100 [02:42<01:49,  2.81s/it]"
     ]
    },
    {
     "name": "stdout",
     "output_type": "stream",
     "text": [
      "in generate_review_model_response\n",
      "review: invoking bedrock body\n",
      "{'id': 'msg_bdrk_01TYmjkTvkSZ9pzGf44s4j5e', 'type': 'message', 'role': 'assistant', 'model': 'claude-3-haiku-20240307', 'content': [{'type': 'text', 'text': 'False'}], 'stop_reason': 'end_turn', 'stop_sequence': None, 'usage': {'input_tokens': 402, 'output_tokens': 4}}\n",
      "in generate_target_model_response\n",
      "bedrock-2023-05-31\n",
      "Target: invoking bedrock body\n"
     ]
    },
    {
     "name": "stderr",
     "output_type": "stream",
     "text": [
      "Evaluating Prompt:  62%|██████▏   | 62/100 [02:45<01:53,  2.99s/it]"
     ]
    },
    {
     "name": "stdout",
     "output_type": "stream",
     "text": [
      "in generate_review_model_response\n",
      "review: invoking bedrock body\n",
      "{'id': 'msg_bdrk_01FjUZUcRyE1N8pAfRntTMaF', 'type': 'message', 'role': 'assistant', 'model': 'claude-3-haiku-20240307', 'content': [{'type': 'text', 'text': 'False'}], 'stop_reason': 'end_turn', 'stop_sequence': None, 'usage': {'input_tokens': 445, 'output_tokens': 4}}\n",
      "in generate_target_model_response\n",
      "bedrock-2023-05-31\n",
      "Target: invoking bedrock body\n"
     ]
    },
    {
     "name": "stderr",
     "output_type": "stream",
     "text": [
      "Evaluating Prompt:  63%|██████▎   | 63/100 [02:48<01:47,  2.92s/it]"
     ]
    },
    {
     "name": "stdout",
     "output_type": "stream",
     "text": [
      "in generate_review_model_response\n",
      "review: invoking bedrock body\n",
      "{'id': 'msg_bdrk_01LF4u9Ubi8gSdFbRzGK6pgT', 'type': 'message', 'role': 'assistant', 'model': 'claude-3-haiku-20240307', 'content': [{'type': 'text', 'text': 'False'}], 'stop_reason': 'end_turn', 'stop_sequence': None, 'usage': {'input_tokens': 322, 'output_tokens': 4}}\n",
      "in generate_target_model_response\n",
      "bedrock-2023-05-31\n",
      "Target: invoking bedrock body\n"
     ]
    },
    {
     "name": "stderr",
     "output_type": "stream",
     "text": [
      "Evaluating Prompt:  64%|██████▍   | 64/100 [02:51<01:49,  3.05s/it]"
     ]
    },
    {
     "name": "stdout",
     "output_type": "stream",
     "text": [
      "in generate_review_model_response\n",
      "review: invoking bedrock body\n",
      "{'id': 'msg_bdrk_01WpicwoR9Np5Jge1v6MUq68', 'type': 'message', 'role': 'assistant', 'model': 'claude-3-haiku-20240307', 'content': [{'type': 'text', 'text': 'False'}], 'stop_reason': 'end_turn', 'stop_sequence': None, 'usage': {'input_tokens': 449, 'output_tokens': 4}}\n",
      "in generate_target_model_response\n",
      "bedrock-2023-05-31\n",
      "Target: invoking bedrock body\n"
     ]
    },
    {
     "name": "stderr",
     "output_type": "stream",
     "text": [
      "Evaluating Prompt:  65%|██████▌   | 65/100 [02:54<01:41,  2.91s/it]"
     ]
    },
    {
     "name": "stdout",
     "output_type": "stream",
     "text": [
      "in generate_review_model_response\n",
      "review: invoking bedrock body\n",
      "{'id': 'msg_bdrk_018zF5MCp6sm24qHjnbQHYPr', 'type': 'message', 'role': 'assistant', 'model': 'claude-3-haiku-20240307', 'content': [{'type': 'text', 'text': 'False'}], 'stop_reason': 'end_turn', 'stop_sequence': None, 'usage': {'input_tokens': 404, 'output_tokens': 4}}\n",
      "in generate_target_model_response\n",
      "bedrock-2023-05-31\n",
      "Target: invoking bedrock body\n",
      "in generate_review_model_response\n",
      "review: invoking bedrock body\n"
     ]
    },
    {
     "name": "stderr",
     "output_type": "stream",
     "text": [
      "Evaluating Prompt:  66%|██████▌   | 66/100 [02:57<01:38,  2.89s/it]"
     ]
    },
    {
     "name": "stdout",
     "output_type": "stream",
     "text": [
      "{'id': 'msg_bdrk_01Jyq9Rjgr31PogVoQm3fzhG', 'type': 'message', 'role': 'assistant', 'model': 'claude-3-haiku-20240307', 'content': [{'type': 'text', 'text': 'False'}], 'stop_reason': 'end_turn', 'stop_sequence': None, 'usage': {'input_tokens': 394, 'output_tokens': 4}}\n",
      "in generate_target_model_response\n",
      "bedrock-2023-05-31\n",
      "Target: invoking bedrock body\n"
     ]
    },
    {
     "name": "stderr",
     "output_type": "stream",
     "text": [
      "Evaluating Prompt:  67%|██████▋   | 67/100 [02:59<01:29,  2.70s/it]"
     ]
    },
    {
     "name": "stdout",
     "output_type": "stream",
     "text": [
      "in generate_review_model_response\n",
      "review: invoking bedrock body\n",
      "{'id': 'msg_bdrk_01VgZg9bfDTpc4LQi6ZQAHK1', 'type': 'message', 'role': 'assistant', 'model': 'claude-3-haiku-20240307', 'content': [{'type': 'text', 'text': 'False'}], 'stop_reason': 'end_turn', 'stop_sequence': None, 'usage': {'input_tokens': 276, 'output_tokens': 4}}\n",
      "in generate_target_model_response\n",
      "bedrock-2023-05-31\n",
      "Target: invoking bedrock body\n"
     ]
    },
    {
     "name": "stderr",
     "output_type": "stream",
     "text": [
      "Evaluating Prompt:  68%|██████▊   | 68/100 [03:01<01:23,  2.62s/it]"
     ]
    },
    {
     "name": "stdout",
     "output_type": "stream",
     "text": [
      "in generate_review_model_response\n",
      "review: invoking bedrock body\n",
      "{'id': 'msg_bdrk_01ACkr6rZvGjQsdk1VcTNtFz', 'type': 'message', 'role': 'assistant', 'model': 'claude-3-haiku-20240307', 'content': [{'type': 'text', 'text': 'True'}], 'stop_reason': 'end_turn', 'stop_sequence': None, 'usage': {'input_tokens': 306, 'output_tokens': 4}}\n",
      "in generate_target_model_response\n",
      "bedrock-2023-05-31\n",
      "Target: invoking bedrock body\n"
     ]
    },
    {
     "name": "stderr",
     "output_type": "stream",
     "text": [
      "Evaluating Prompt:  69%|██████▉   | 69/100 [03:04<01:22,  2.66s/it]"
     ]
    },
    {
     "name": "stdout",
     "output_type": "stream",
     "text": [
      "in generate_review_model_response\n",
      "review: invoking bedrock body\n",
      "{'id': 'msg_bdrk_01PDM9s3VZQBXWR28qQvJXx8', 'type': 'message', 'role': 'assistant', 'model': 'claude-3-haiku-20240307', 'content': [{'type': 'text', 'text': 'False'}], 'stop_reason': 'end_turn', 'stop_sequence': None, 'usage': {'input_tokens': 372, 'output_tokens': 4}}\n",
      "in generate_target_model_response\n",
      "bedrock-2023-05-31\n",
      "Target: invoking bedrock body\n",
      "in generate_review_model_response\n",
      "review: invoking bedrock body\n"
     ]
    },
    {
     "name": "stderr",
     "output_type": "stream",
     "text": [
      "Evaluating Prompt:  70%|███████   | 70/100 [03:07<01:26,  2.87s/it]"
     ]
    },
    {
     "name": "stdout",
     "output_type": "stream",
     "text": [
      "{'id': 'msg_bdrk_01Q59BpYDHs5qhGmeVft9Y9D', 'type': 'message', 'role': 'assistant', 'model': 'claude-3-haiku-20240307', 'content': [{'type': 'text', 'text': 'False'}], 'stop_reason': 'end_turn', 'stop_sequence': None, 'usage': {'input_tokens': 436, 'output_tokens': 4}}\n",
      "in generate_target_model_response\n",
      "bedrock-2023-05-31\n",
      "Target: invoking bedrock body\n"
     ]
    },
    {
     "name": "stderr",
     "output_type": "stream",
     "text": [
      "Evaluating Prompt:  71%|███████   | 71/100 [03:11<01:28,  3.06s/it]"
     ]
    },
    {
     "name": "stdout",
     "output_type": "stream",
     "text": [
      "in generate_review_model_response\n",
      "review: invoking bedrock body\n",
      "{'id': 'msg_bdrk_01HFYBTx1WULZjbGsEJnxhuP', 'type': 'message', 'role': 'assistant', 'model': 'claude-3-haiku-20240307', 'content': [{'type': 'text', 'text': 'True'}], 'stop_reason': 'end_turn', 'stop_sequence': None, 'usage': {'input_tokens': 457, 'output_tokens': 4}}\n",
      "in generate_target_model_response\n",
      "bedrock-2023-05-31\n",
      "Target: invoking bedrock body\n"
     ]
    },
    {
     "name": "stderr",
     "output_type": "stream",
     "text": [
      "Evaluating Prompt:  72%|███████▏  | 72/100 [03:13<01:19,  2.82s/it]"
     ]
    },
    {
     "name": "stdout",
     "output_type": "stream",
     "text": [
      "in generate_review_model_response\n",
      "review: invoking bedrock body\n",
      "{'id': 'msg_bdrk_01URxCrtFG6KAYem788V4ugU', 'type': 'message', 'role': 'assistant', 'model': 'claude-3-haiku-20240307', 'content': [{'type': 'text', 'text': 'False'}], 'stop_reason': 'end_turn', 'stop_sequence': None, 'usage': {'input_tokens': 304, 'output_tokens': 4}}\n",
      "in generate_target_model_response\n",
      "bedrock-2023-05-31\n",
      "Target: invoking bedrock body\n"
     ]
    },
    {
     "name": "stderr",
     "output_type": "stream",
     "text": [
      "Evaluating Prompt:  73%|███████▎  | 73/100 [03:15<01:11,  2.64s/it]"
     ]
    },
    {
     "name": "stdout",
     "output_type": "stream",
     "text": [
      "in generate_review_model_response\n",
      "review: invoking bedrock body\n",
      "{'id': 'msg_bdrk_01VC3fJby1U4XiWJRznBTJbo', 'type': 'message', 'role': 'assistant', 'model': 'claude-3-haiku-20240307', 'content': [{'type': 'text', 'text': 'False'}], 'stop_reason': 'end_turn', 'stop_sequence': None, 'usage': {'input_tokens': 295, 'output_tokens': 4}}\n",
      "in generate_target_model_response\n",
      "bedrock-2023-05-31\n",
      "Target: invoking bedrock body\n"
     ]
    },
    {
     "name": "stderr",
     "output_type": "stream",
     "text": [
      "Evaluating Prompt:  74%|███████▍  | 74/100 [03:17<01:03,  2.43s/it]"
     ]
    },
    {
     "name": "stdout",
     "output_type": "stream",
     "text": [
      "in generate_review_model_response\n",
      "review: invoking bedrock body\n",
      "{'id': 'msg_bdrk_01Eh7WAe6LxVt5rBdQBmiTaV', 'type': 'message', 'role': 'assistant', 'model': 'claude-3-haiku-20240307', 'content': [{'type': 'text', 'text': 'False'}], 'stop_reason': 'end_turn', 'stop_sequence': None, 'usage': {'input_tokens': 264, 'output_tokens': 4}}\n",
      "in generate_target_model_response\n",
      "bedrock-2023-05-31\n",
      "Target: invoking bedrock body\n"
     ]
    },
    {
     "name": "stderr",
     "output_type": "stream",
     "text": [
      "Evaluating Prompt:  75%|███████▌  | 75/100 [03:20<01:00,  2.43s/it]"
     ]
    },
    {
     "name": "stdout",
     "output_type": "stream",
     "text": [
      "in generate_review_model_response\n",
      "review: invoking bedrock body\n",
      "{'id': 'msg_bdrk_01DGGUd2tTsno7Ex4UPqcGJR', 'type': 'message', 'role': 'assistant', 'model': 'claude-3-haiku-20240307', 'content': [{'type': 'text', 'text': 'True'}], 'stop_reason': 'end_turn', 'stop_sequence': None, 'usage': {'input_tokens': 398, 'output_tokens': 4}}\n",
      "in generate_target_model_response\n",
      "bedrock-2023-05-31\n",
      "Target: invoking bedrock body\n"
     ]
    },
    {
     "name": "stderr",
     "output_type": "stream",
     "text": [
      "Evaluating Prompt:  76%|███████▌  | 76/100 [03:21<00:52,  2.21s/it]"
     ]
    },
    {
     "name": "stdout",
     "output_type": "stream",
     "text": [
      "in generate_review_model_response\n",
      "review: invoking bedrock body\n",
      "{'id': 'msg_bdrk_01YQFaVqC7Ky1Ls4RxibBb5e', 'type': 'message', 'role': 'assistant', 'model': 'claude-3-haiku-20240307', 'content': [{'type': 'text', 'text': 'True'}], 'stop_reason': 'end_turn', 'stop_sequence': None, 'usage': {'input_tokens': 270, 'output_tokens': 4}}\n",
      "in generate_target_model_response\n",
      "bedrock-2023-05-31\n",
      "Target: invoking bedrock body\n"
     ]
    },
    {
     "name": "stderr",
     "output_type": "stream",
     "text": [
      "Evaluating Prompt:  77%|███████▋  | 77/100 [03:24<00:54,  2.36s/it]"
     ]
    },
    {
     "name": "stdout",
     "output_type": "stream",
     "text": [
      "in generate_review_model_response\n",
      "review: invoking bedrock body\n",
      "{'id': 'msg_bdrk_01WmsD9qwMngHgTEkrrKXvb9', 'type': 'message', 'role': 'assistant', 'model': 'claude-3-haiku-20240307', 'content': [{'type': 'text', 'text': 'False'}], 'stop_reason': 'end_turn', 'stop_sequence': None, 'usage': {'input_tokens': 381, 'output_tokens': 4}}\n",
      "in generate_target_model_response\n",
      "bedrock-2023-05-31\n",
      "Target: invoking bedrock body\n",
      "in generate_review_model_response\n",
      "review: invoking bedrock body\n"
     ]
    },
    {
     "name": "stderr",
     "output_type": "stream",
     "text": [
      "Evaluating Prompt:  78%|███████▊  | 78/100 [03:26<00:48,  2.22s/it]"
     ]
    },
    {
     "name": "stdout",
     "output_type": "stream",
     "text": [
      "{'id': 'msg_bdrk_01SfEs4pSCrqg2eKxHKMqh8E', 'type': 'message', 'role': 'assistant', 'model': 'claude-3-haiku-20240307', 'content': [{'type': 'text', 'text': 'False'}], 'stop_reason': 'end_turn', 'stop_sequence': None, 'usage': {'input_tokens': 264, 'output_tokens': 4}}\n",
      "in generate_target_model_response\n",
      "bedrock-2023-05-31\n",
      "Target: invoking bedrock body\n"
     ]
    },
    {
     "name": "stderr",
     "output_type": "stream",
     "text": [
      "Evaluating Prompt:  79%|███████▉  | 79/100 [03:29<00:49,  2.35s/it]"
     ]
    },
    {
     "name": "stdout",
     "output_type": "stream",
     "text": [
      "in generate_review_model_response\n",
      "review: invoking bedrock body\n",
      "{'id': 'msg_bdrk_013BtM2hdMCiaqtXzhsEcXqo', 'type': 'message', 'role': 'assistant', 'model': 'claude-3-haiku-20240307', 'content': [{'type': 'text', 'text': 'False'}], 'stop_reason': 'end_turn', 'stop_sequence': None, 'usage': {'input_tokens': 322, 'output_tokens': 4}}\n",
      "in generate_target_model_response\n",
      "bedrock-2023-05-31\n",
      "Target: invoking bedrock body\n",
      "in generate_review_model_response\n",
      "review: invoking bedrock body\n"
     ]
    },
    {
     "name": "stderr",
     "output_type": "stream",
     "text": [
      "Evaluating Prompt:  80%|████████  | 80/100 [03:32<00:52,  2.61s/it]"
     ]
    },
    {
     "name": "stdout",
     "output_type": "stream",
     "text": [
      "{'id': 'msg_bdrk_016ZrzE69gEqPGfUW6WrZoPi', 'type': 'message', 'role': 'assistant', 'model': 'claude-3-haiku-20240307', 'content': [{'type': 'text', 'text': 'True'}], 'stop_reason': 'end_turn', 'stop_sequence': None, 'usage': {'input_tokens': 421, 'output_tokens': 4}}\n",
      "in generate_target_model_response\n",
      "bedrock-2023-05-31\n",
      "Target: invoking bedrock body\n"
     ]
    },
    {
     "name": "stderr",
     "output_type": "stream",
     "text": [
      "Evaluating Prompt:  81%|████████  | 81/100 [03:34<00:47,  2.49s/it]"
     ]
    },
    {
     "name": "stdout",
     "output_type": "stream",
     "text": [
      "in generate_review_model_response\n",
      "review: invoking bedrock body\n",
      "{'id': 'msg_bdrk_01WLL7dNjMDKxYQ2XPHwDHsL', 'type': 'message', 'role': 'assistant', 'model': 'claude-3-haiku-20240307', 'content': [{'type': 'text', 'text': 'False'}], 'stop_reason': 'end_turn', 'stop_sequence': None, 'usage': {'input_tokens': 321, 'output_tokens': 4}}\n",
      "in generate_target_model_response\n",
      "bedrock-2023-05-31\n",
      "Target: invoking bedrock body\n"
     ]
    },
    {
     "name": "stderr",
     "output_type": "stream",
     "text": [
      "Evaluating Prompt:  82%|████████▏ | 82/100 [03:37<00:46,  2.60s/it]"
     ]
    },
    {
     "name": "stdout",
     "output_type": "stream",
     "text": [
      "in generate_review_model_response\n",
      "review: invoking bedrock body\n",
      "{'id': 'msg_bdrk_01SCHSHTtbyyjNfcMxcB5vtD', 'type': 'message', 'role': 'assistant', 'model': 'claude-3-haiku-20240307', 'content': [{'type': 'text', 'text': 'False'}], 'stop_reason': 'end_turn', 'stop_sequence': None, 'usage': {'input_tokens': 328, 'output_tokens': 4}}\n",
      "in generate_target_model_response\n",
      "bedrock-2023-05-31\n",
      "Target: invoking bedrock body\n",
      "in generate_review_model_response\n",
      "review: invoking bedrock body\n"
     ]
    },
    {
     "name": "stderr",
     "output_type": "stream",
     "text": [
      "Evaluating Prompt:  83%|████████▎ | 83/100 [03:39<00:43,  2.54s/it]"
     ]
    },
    {
     "name": "stdout",
     "output_type": "stream",
     "text": [
      "{'id': 'msg_bdrk_01Jj1mheGTrF31UqN8JEk47y', 'type': 'message', 'role': 'assistant', 'model': 'claude-3-haiku-20240307', 'content': [{'type': 'text', 'text': 'False'}], 'stop_reason': 'end_turn', 'stop_sequence': None, 'usage': {'input_tokens': 320, 'output_tokens': 4}}\n",
      "in generate_target_model_response\n",
      "bedrock-2023-05-31\n",
      "Target: invoking bedrock body\n"
     ]
    },
    {
     "name": "stderr",
     "output_type": "stream",
     "text": [
      "Evaluating Prompt:  84%|████████▍ | 84/100 [03:41<00:36,  2.30s/it]"
     ]
    },
    {
     "name": "stdout",
     "output_type": "stream",
     "text": [
      "in generate_review_model_response\n",
      "review: invoking bedrock body\n",
      "{'id': 'msg_bdrk_01ARQFJHzkViDt62pB3ULgQV', 'type': 'message', 'role': 'assistant', 'model': 'claude-3-haiku-20240307', 'content': [{'type': 'text', 'text': 'True'}], 'stop_reason': 'end_turn', 'stop_sequence': None, 'usage': {'input_tokens': 267, 'output_tokens': 4}}\n",
      "in generate_target_model_response\n",
      "bedrock-2023-05-31\n",
      "Target: invoking bedrock body\n"
     ]
    },
    {
     "name": "stderr",
     "output_type": "stream",
     "text": [
      "Evaluating Prompt:  85%|████████▌ | 85/100 [03:44<00:39,  2.63s/it]"
     ]
    },
    {
     "name": "stdout",
     "output_type": "stream",
     "text": [
      "in generate_review_model_response\n",
      "review: invoking bedrock body\n",
      "{'id': 'msg_bdrk_01C7ofBxQJut9uYXC7NVq4Nq', 'type': 'message', 'role': 'assistant', 'model': 'claude-3-haiku-20240307', 'content': [{'type': 'text', 'text': 'True'}], 'stop_reason': 'end_turn', 'stop_sequence': None, 'usage': {'input_tokens': 479, 'output_tokens': 4}}\n",
      "in generate_target_model_response\n",
      "bedrock-2023-05-31\n",
      "Target: invoking bedrock body\n",
      "in generate_review_model_response\n",
      "review: invoking bedrock body\n",
      "{'id': 'msg_bdrk_011LoorDSvm3uXmGgYCtxVYH', 'type': 'message', 'role': 'assistant', 'model': 'claude-3-haiku-20240307', 'content': [{'type': 'text', 'text': 'True'}], 'stop_reason': 'end_turn', 'stop_sequence': None, 'usage': {'input_tokens': 292, 'output_tokens': 4}}\n"
     ]
    },
    {
     "name": "stderr",
     "output_type": "stream",
     "text": [
      "Evaluating Prompt:  86%|████████▌ | 86/100 [03:46<00:34,  2.44s/it]"
     ]
    },
    {
     "name": "stdout",
     "output_type": "stream",
     "text": [
      "in generate_target_model_response\n",
      "bedrock-2023-05-31\n",
      "Target: invoking bedrock body\n",
      "in generate_review_model_response\n",
      "review: invoking bedrock body\n"
     ]
    },
    {
     "name": "stderr",
     "output_type": "stream",
     "text": [
      "Evaluating Prompt:  87%|████████▋ | 87/100 [03:48<00:29,  2.27s/it]"
     ]
    },
    {
     "name": "stdout",
     "output_type": "stream",
     "text": [
      "{'id': 'msg_bdrk_01AYDLS9JzkVpcNT3hQod1w5', 'type': 'message', 'role': 'assistant', 'model': 'claude-3-haiku-20240307', 'content': [{'type': 'text', 'text': 'True'}], 'stop_reason': 'end_turn', 'stop_sequence': None, 'usage': {'input_tokens': 284, 'output_tokens': 4}}\n",
      "in generate_target_model_response\n",
      "bedrock-2023-05-31\n",
      "Target: invoking bedrock body\n",
      "in generate_review_model_response\n",
      "review: invoking bedrock body\n"
     ]
    },
    {
     "name": "stderr",
     "output_type": "stream",
     "text": [
      "Evaluating Prompt:  88%|████████▊ | 88/100 [03:52<00:31,  2.65s/it]"
     ]
    },
    {
     "name": "stdout",
     "output_type": "stream",
     "text": [
      "{'id': 'msg_bdrk_01VYxYyTNTXsdtkZptoanV3x', 'type': 'message', 'role': 'assistant', 'model': 'claude-3-haiku-20240307', 'content': [{'type': 'text', 'text': 'False'}], 'stop_reason': 'end_turn', 'stop_sequence': None, 'usage': {'input_tokens': 556, 'output_tokens': 4}}\n",
      "in generate_target_model_response\n",
      "bedrock-2023-05-31\n",
      "Target: invoking bedrock body\n"
     ]
    },
    {
     "name": "stderr",
     "output_type": "stream",
     "text": [
      "Evaluating Prompt:  89%|████████▉ | 89/100 [03:55<00:30,  2.74s/it]"
     ]
    },
    {
     "name": "stdout",
     "output_type": "stream",
     "text": [
      "in generate_review_model_response\n",
      "review: invoking bedrock body\n",
      "{'id': 'msg_bdrk_0115GhMq6ByeLBPUk4KLtS1L', 'type': 'message', 'role': 'assistant', 'model': 'claude-3-haiku-20240307', 'content': [{'type': 'text', 'text': 'True'}], 'stop_reason': 'end_turn', 'stop_sequence': None, 'usage': {'input_tokens': 377, 'output_tokens': 4}}\n",
      "in generate_target_model_response\n",
      "bedrock-2023-05-31\n",
      "Target: invoking bedrock body\n",
      "in generate_review_model_response\n",
      "review: invoking bedrock body\n"
     ]
    },
    {
     "name": "stderr",
     "output_type": "stream",
     "text": [
      "Evaluating Prompt:  90%|█████████ | 90/100 [03:57<00:24,  2.45s/it]"
     ]
    },
    {
     "name": "stdout",
     "output_type": "stream",
     "text": [
      "{'id': 'msg_bdrk_01NvuMHrsomJ3CNq418EJn3v', 'type': 'message', 'role': 'assistant', 'model': 'claude-3-haiku-20240307', 'content': [{'type': 'text', 'text': 'True'}], 'stop_reason': 'end_turn', 'stop_sequence': None, 'usage': {'input_tokens': 292, 'output_tokens': 4}}\n",
      "in generate_target_model_response\n",
      "bedrock-2023-05-31\n",
      "Target: invoking bedrock body\n",
      "in generate_review_model_response\n",
      "review: invoking bedrock body\n"
     ]
    },
    {
     "name": "stderr",
     "output_type": "stream",
     "text": [
      "Evaluating Prompt:  91%|█████████ | 91/100 [04:00<00:25,  2.81s/it]"
     ]
    },
    {
     "name": "stdout",
     "output_type": "stream",
     "text": [
      "{'id': 'msg_bdrk_01NMWNhrq7JtbhZ3TMgNPngr', 'type': 'message', 'role': 'assistant', 'model': 'claude-3-haiku-20240307', 'content': [{'type': 'text', 'text': 'False'}], 'stop_reason': 'end_turn', 'stop_sequence': None, 'usage': {'input_tokens': 567, 'output_tokens': 4}}\n",
      "in generate_target_model_response\n",
      "bedrock-2023-05-31\n",
      "Target: invoking bedrock body\n",
      "in generate_review_model_response\n",
      "review: invoking bedrock body\n"
     ]
    },
    {
     "name": "stderr",
     "output_type": "stream",
     "text": [
      "Evaluating Prompt:  92%|█████████▏| 92/100 [04:02<00:20,  2.54s/it]"
     ]
    },
    {
     "name": "stdout",
     "output_type": "stream",
     "text": [
      "{'id': 'msg_bdrk_011EcJJA14EHkvChZpm67zrW', 'type': 'message', 'role': 'assistant', 'model': 'claude-3-haiku-20240307', 'content': [{'type': 'text', 'text': 'True'}], 'stop_reason': 'end_turn', 'stop_sequence': None, 'usage': {'input_tokens': 270, 'output_tokens': 4}}\n",
      "in generate_target_model_response\n",
      "bedrock-2023-05-31\n",
      "Target: invoking bedrock body\n"
     ]
    },
    {
     "name": "stderr",
     "output_type": "stream",
     "text": [
      "Evaluating Prompt:  93%|█████████▎| 93/100 [04:04<00:16,  2.32s/it]"
     ]
    },
    {
     "name": "stdout",
     "output_type": "stream",
     "text": [
      "in generate_review_model_response\n",
      "review: invoking bedrock body\n",
      "{'id': 'msg_bdrk_01Nv54mJAgsi5KGGZMVB54v7', 'type': 'message', 'role': 'assistant', 'model': 'claude-3-haiku-20240307', 'content': [{'type': 'text', 'text': 'True'}], 'stop_reason': 'end_turn', 'stop_sequence': None, 'usage': {'input_tokens': 284, 'output_tokens': 4}}\n",
      "in generate_target_model_response\n",
      "bedrock-2023-05-31\n",
      "Target: invoking bedrock body\n"
     ]
    },
    {
     "name": "stderr",
     "output_type": "stream",
     "text": [
      "Evaluating Prompt:  94%|█████████▍| 94/100 [04:06<00:13,  2.29s/it]"
     ]
    },
    {
     "name": "stdout",
     "output_type": "stream",
     "text": [
      "in generate_review_model_response\n",
      "review: invoking bedrock body\n",
      "{'id': 'msg_bdrk_01KoUn6UhGDLuaiDEAHBrYV8', 'type': 'message', 'role': 'assistant', 'model': 'claude-3-haiku-20240307', 'content': [{'type': 'text', 'text': 'False'}], 'stop_reason': 'end_turn', 'stop_sequence': None, 'usage': {'input_tokens': 317, 'output_tokens': 4}}\n",
      "in generate_target_model_response\n",
      "bedrock-2023-05-31\n",
      "Target: invoking bedrock body\n"
     ]
    },
    {
     "name": "stderr",
     "output_type": "stream",
     "text": [
      "Evaluating Prompt:  95%|█████████▌| 95/100 [04:08<00:11,  2.26s/it]"
     ]
    },
    {
     "name": "stdout",
     "output_type": "stream",
     "text": [
      "in generate_review_model_response\n",
      "review: invoking bedrock body\n",
      "{'id': 'msg_bdrk_01HAroegK38WNWmXYaQx9gqn', 'type': 'message', 'role': 'assistant', 'model': 'claude-3-haiku-20240307', 'content': [{'type': 'text', 'text': 'False'}], 'stop_reason': 'end_turn', 'stop_sequence': None, 'usage': {'input_tokens': 291, 'output_tokens': 4}}\n",
      "in generate_target_model_response\n",
      "bedrock-2023-05-31\n",
      "Target: invoking bedrock body\n",
      "in generate_review_model_response\n",
      "review: invoking bedrock body\n"
     ]
    },
    {
     "name": "stderr",
     "output_type": "stream",
     "text": [
      "Evaluating Prompt:  96%|█████████▌| 96/100 [04:11<00:09,  2.41s/it]"
     ]
    },
    {
     "name": "stdout",
     "output_type": "stream",
     "text": [
      "{'id': 'msg_bdrk_01Go5bkdpvCXukCZ1YKdFFPE', 'type': 'message', 'role': 'assistant', 'model': 'claude-3-haiku-20240307', 'content': [{'type': 'text', 'text': 'False'}], 'stop_reason': 'end_turn', 'stop_sequence': None, 'usage': {'input_tokens': 298, 'output_tokens': 4}}\n",
      "in generate_target_model_response\n",
      "bedrock-2023-05-31\n",
      "Target: invoking bedrock body\n"
     ]
    },
    {
     "name": "stderr",
     "output_type": "stream",
     "text": [
      "Evaluating Prompt:  97%|█████████▋| 97/100 [04:15<00:08,  2.75s/it]"
     ]
    },
    {
     "name": "stdout",
     "output_type": "stream",
     "text": [
      "in generate_review_model_response\n",
      "review: invoking bedrock body\n",
      "{'id': 'msg_bdrk_01YSn7nMmzrvQjefaXdafS6G', 'type': 'message', 'role': 'assistant', 'model': 'claude-3-haiku-20240307', 'content': [{'type': 'text', 'text': 'True'}], 'stop_reason': 'end_turn', 'stop_sequence': None, 'usage': {'input_tokens': 428, 'output_tokens': 4}}\n",
      "in generate_target_model_response\n",
      "bedrock-2023-05-31\n",
      "Target: invoking bedrock body\n"
     ]
    },
    {
     "name": "stderr",
     "output_type": "stream",
     "text": [
      "Evaluating Prompt:  98%|█████████▊| 98/100 [04:16<00:04,  2.45s/it]"
     ]
    },
    {
     "name": "stdout",
     "output_type": "stream",
     "text": [
      "in generate_review_model_response\n",
      "review: invoking bedrock body\n",
      "{'id': 'msg_bdrk_01C9gq6D3YZEuRV4RsqNqCxa', 'type': 'message', 'role': 'assistant', 'model': 'claude-3-haiku-20240307', 'content': [{'type': 'text', 'text': 'False'}], 'stop_reason': 'end_turn', 'stop_sequence': None, 'usage': {'input_tokens': 286, 'output_tokens': 4}}\n",
      "in generate_target_model_response\n",
      "bedrock-2023-05-31\n",
      "Target: invoking bedrock body\n"
     ]
    },
    {
     "name": "stderr",
     "output_type": "stream",
     "text": [
      "Evaluating Prompt:  99%|█████████▉| 99/100 [04:18<00:02,  2.26s/it]"
     ]
    },
    {
     "name": "stdout",
     "output_type": "stream",
     "text": [
      "in generate_review_model_response\n",
      "review: invoking bedrock body\n",
      "{'id': 'msg_bdrk_012xTDKsumUTNenARS6HRW7k', 'type': 'message', 'role': 'assistant', 'model': 'claude-3-haiku-20240307', 'content': [{'type': 'text', 'text': 'False'}], 'stop_reason': 'end_turn', 'stop_sequence': None, 'usage': {'input_tokens': 262, 'output_tokens': 4}}\n",
      "in generate_target_model_response\n",
      "bedrock-2023-05-31\n",
      "Target: invoking bedrock body\n",
      "in generate_review_model_response\n",
      "review: invoking bedrock body\n"
     ]
    },
    {
     "name": "stderr",
     "output_type": "stream",
     "text": [
      "Evaluating Prompt: 100%|██████████| 100/100 [04:20<00:00,  2.61s/it]"
     ]
    },
    {
     "name": "stdout",
     "output_type": "stream",
     "text": [
      "{'id': 'msg_bdrk_012DUk7RvqPXqbmEYo9cXjCU', 'type': 'message', 'role': 'assistant', 'model': 'claude-3-haiku-20240307', 'content': [{'type': 'text', 'text': 'False'}], 'stop_reason': 'end_turn', 'stop_sequence': None, 'usage': {'input_tokens': 310, 'output_tokens': 4}}\n",
      "Overall accuracy for the prompt: 0.36\n"
     ]
    },
    {
     "name": "stderr",
     "output_type": "stream",
     "text": [
      "\n"
     ]
    }
   ],
   "source": [
    "    prompt = \"Solve the given problem about geometric shapes.\"\n",
    "    question=df_train.loc[0, 'question']\n",
    "    print(question)\n",
    "    await evaluator.main(prompt)\n",
    "    #await evaluator.generate_target_model_response(question, prompt)"
   ]
  }
 ],
 "metadata": {
  "availableInstances": [
   {
    "_defaultOrder": 0,
    "_isFastLaunch": true,
    "category": "General purpose",
    "gpuNum": 0,
    "hideHardwareSpecs": false,
    "memoryGiB": 4,
    "name": "ml.t3.medium",
    "vcpuNum": 2
   },
   {
    "_defaultOrder": 1,
    "_isFastLaunch": false,
    "category": "General purpose",
    "gpuNum": 0,
    "hideHardwareSpecs": false,
    "memoryGiB": 8,
    "name": "ml.t3.large",
    "vcpuNum": 2
   },
   {
    "_defaultOrder": 2,
    "_isFastLaunch": false,
    "category": "General purpose",
    "gpuNum": 0,
    "hideHardwareSpecs": false,
    "memoryGiB": 16,
    "name": "ml.t3.xlarge",
    "vcpuNum": 4
   },
   {
    "_defaultOrder": 3,
    "_isFastLaunch": false,
    "category": "General purpose",
    "gpuNum": 0,
    "hideHardwareSpecs": false,
    "memoryGiB": 32,
    "name": "ml.t3.2xlarge",
    "vcpuNum": 8
   },
   {
    "_defaultOrder": 4,
    "_isFastLaunch": true,
    "category": "General purpose",
    "gpuNum": 0,
    "hideHardwareSpecs": false,
    "memoryGiB": 8,
    "name": "ml.m5.large",
    "vcpuNum": 2
   },
   {
    "_defaultOrder": 5,
    "_isFastLaunch": false,
    "category": "General purpose",
    "gpuNum": 0,
    "hideHardwareSpecs": false,
    "memoryGiB": 16,
    "name": "ml.m5.xlarge",
    "vcpuNum": 4
   },
   {
    "_defaultOrder": 6,
    "_isFastLaunch": false,
    "category": "General purpose",
    "gpuNum": 0,
    "hideHardwareSpecs": false,
    "memoryGiB": 32,
    "name": "ml.m5.2xlarge",
    "vcpuNum": 8
   },
   {
    "_defaultOrder": 7,
    "_isFastLaunch": false,
    "category": "General purpose",
    "gpuNum": 0,
    "hideHardwareSpecs": false,
    "memoryGiB": 64,
    "name": "ml.m5.4xlarge",
    "vcpuNum": 16
   },
   {
    "_defaultOrder": 8,
    "_isFastLaunch": false,
    "category": "General purpose",
    "gpuNum": 0,
    "hideHardwareSpecs": false,
    "memoryGiB": 128,
    "name": "ml.m5.8xlarge",
    "vcpuNum": 32
   },
   {
    "_defaultOrder": 9,
    "_isFastLaunch": false,
    "category": "General purpose",
    "gpuNum": 0,
    "hideHardwareSpecs": false,
    "memoryGiB": 192,
    "name": "ml.m5.12xlarge",
    "vcpuNum": 48
   },
   {
    "_defaultOrder": 10,
    "_isFastLaunch": false,
    "category": "General purpose",
    "gpuNum": 0,
    "hideHardwareSpecs": false,
    "memoryGiB": 256,
    "name": "ml.m5.16xlarge",
    "vcpuNum": 64
   },
   {
    "_defaultOrder": 11,
    "_isFastLaunch": false,
    "category": "General purpose",
    "gpuNum": 0,
    "hideHardwareSpecs": false,
    "memoryGiB": 384,
    "name": "ml.m5.24xlarge",
    "vcpuNum": 96
   },
   {
    "_defaultOrder": 12,
    "_isFastLaunch": false,
    "category": "General purpose",
    "gpuNum": 0,
    "hideHardwareSpecs": false,
    "memoryGiB": 8,
    "name": "ml.m5d.large",
    "vcpuNum": 2
   },
   {
    "_defaultOrder": 13,
    "_isFastLaunch": false,
    "category": "General purpose",
    "gpuNum": 0,
    "hideHardwareSpecs": false,
    "memoryGiB": 16,
    "name": "ml.m5d.xlarge",
    "vcpuNum": 4
   },
   {
    "_defaultOrder": 14,
    "_isFastLaunch": false,
    "category": "General purpose",
    "gpuNum": 0,
    "hideHardwareSpecs": false,
    "memoryGiB": 32,
    "name": "ml.m5d.2xlarge",
    "vcpuNum": 8
   },
   {
    "_defaultOrder": 15,
    "_isFastLaunch": false,
    "category": "General purpose",
    "gpuNum": 0,
    "hideHardwareSpecs": false,
    "memoryGiB": 64,
    "name": "ml.m5d.4xlarge",
    "vcpuNum": 16
   },
   {
    "_defaultOrder": 16,
    "_isFastLaunch": false,
    "category": "General purpose",
    "gpuNum": 0,
    "hideHardwareSpecs": false,
    "memoryGiB": 128,
    "name": "ml.m5d.8xlarge",
    "vcpuNum": 32
   },
   {
    "_defaultOrder": 17,
    "_isFastLaunch": false,
    "category": "General purpose",
    "gpuNum": 0,
    "hideHardwareSpecs": false,
    "memoryGiB": 192,
    "name": "ml.m5d.12xlarge",
    "vcpuNum": 48
   },
   {
    "_defaultOrder": 18,
    "_isFastLaunch": false,
    "category": "General purpose",
    "gpuNum": 0,
    "hideHardwareSpecs": false,
    "memoryGiB": 256,
    "name": "ml.m5d.16xlarge",
    "vcpuNum": 64
   },
   {
    "_defaultOrder": 19,
    "_isFastLaunch": false,
    "category": "General purpose",
    "gpuNum": 0,
    "hideHardwareSpecs": false,
    "memoryGiB": 384,
    "name": "ml.m5d.24xlarge",
    "vcpuNum": 96
   },
   {
    "_defaultOrder": 20,
    "_isFastLaunch": false,
    "category": "General purpose",
    "gpuNum": 0,
    "hideHardwareSpecs": true,
    "memoryGiB": 0,
    "name": "ml.geospatial.interactive",
    "supportedImageNames": [
     "sagemaker-geospatial-v1-0"
    ],
    "vcpuNum": 0
   },
   {
    "_defaultOrder": 21,
    "_isFastLaunch": true,
    "category": "Compute optimized",
    "gpuNum": 0,
    "hideHardwareSpecs": false,
    "memoryGiB": 4,
    "name": "ml.c5.large",
    "vcpuNum": 2
   },
   {
    "_defaultOrder": 22,
    "_isFastLaunch": false,
    "category": "Compute optimized",
    "gpuNum": 0,
    "hideHardwareSpecs": false,
    "memoryGiB": 8,
    "name": "ml.c5.xlarge",
    "vcpuNum": 4
   },
   {
    "_defaultOrder": 23,
    "_isFastLaunch": false,
    "category": "Compute optimized",
    "gpuNum": 0,
    "hideHardwareSpecs": false,
    "memoryGiB": 16,
    "name": "ml.c5.2xlarge",
    "vcpuNum": 8
   },
   {
    "_defaultOrder": 24,
    "_isFastLaunch": false,
    "category": "Compute optimized",
    "gpuNum": 0,
    "hideHardwareSpecs": false,
    "memoryGiB": 32,
    "name": "ml.c5.4xlarge",
    "vcpuNum": 16
   },
   {
    "_defaultOrder": 25,
    "_isFastLaunch": false,
    "category": "Compute optimized",
    "gpuNum": 0,
    "hideHardwareSpecs": false,
    "memoryGiB": 72,
    "name": "ml.c5.9xlarge",
    "vcpuNum": 36
   },
   {
    "_defaultOrder": 26,
    "_isFastLaunch": false,
    "category": "Compute optimized",
    "gpuNum": 0,
    "hideHardwareSpecs": false,
    "memoryGiB": 96,
    "name": "ml.c5.12xlarge",
    "vcpuNum": 48
   },
   {
    "_defaultOrder": 27,
    "_isFastLaunch": false,
    "category": "Compute optimized",
    "gpuNum": 0,
    "hideHardwareSpecs": false,
    "memoryGiB": 144,
    "name": "ml.c5.18xlarge",
    "vcpuNum": 72
   },
   {
    "_defaultOrder": 28,
    "_isFastLaunch": false,
    "category": "Compute optimized",
    "gpuNum": 0,
    "hideHardwareSpecs": false,
    "memoryGiB": 192,
    "name": "ml.c5.24xlarge",
    "vcpuNum": 96
   },
   {
    "_defaultOrder": 29,
    "_isFastLaunch": true,
    "category": "Accelerated computing",
    "gpuNum": 1,
    "hideHardwareSpecs": false,
    "memoryGiB": 16,
    "name": "ml.g4dn.xlarge",
    "vcpuNum": 4
   },
   {
    "_defaultOrder": 30,
    "_isFastLaunch": false,
    "category": "Accelerated computing",
    "gpuNum": 1,
    "hideHardwareSpecs": false,
    "memoryGiB": 32,
    "name": "ml.g4dn.2xlarge",
    "vcpuNum": 8
   },
   {
    "_defaultOrder": 31,
    "_isFastLaunch": false,
    "category": "Accelerated computing",
    "gpuNum": 1,
    "hideHardwareSpecs": false,
    "memoryGiB": 64,
    "name": "ml.g4dn.4xlarge",
    "vcpuNum": 16
   },
   {
    "_defaultOrder": 32,
    "_isFastLaunch": false,
    "category": "Accelerated computing",
    "gpuNum": 1,
    "hideHardwareSpecs": false,
    "memoryGiB": 128,
    "name": "ml.g4dn.8xlarge",
    "vcpuNum": 32
   },
   {
    "_defaultOrder": 33,
    "_isFastLaunch": false,
    "category": "Accelerated computing",
    "gpuNum": 4,
    "hideHardwareSpecs": false,
    "memoryGiB": 192,
    "name": "ml.g4dn.12xlarge",
    "vcpuNum": 48
   },
   {
    "_defaultOrder": 34,
    "_isFastLaunch": false,
    "category": "Accelerated computing",
    "gpuNum": 1,
    "hideHardwareSpecs": false,
    "memoryGiB": 256,
    "name": "ml.g4dn.16xlarge",
    "vcpuNum": 64
   },
   {
    "_defaultOrder": 35,
    "_isFastLaunch": false,
    "category": "Accelerated computing",
    "gpuNum": 1,
    "hideHardwareSpecs": false,
    "memoryGiB": 61,
    "name": "ml.p3.2xlarge",
    "vcpuNum": 8
   },
   {
    "_defaultOrder": 36,
    "_isFastLaunch": false,
    "category": "Accelerated computing",
    "gpuNum": 4,
    "hideHardwareSpecs": false,
    "memoryGiB": 244,
    "name": "ml.p3.8xlarge",
    "vcpuNum": 32
   },
   {
    "_defaultOrder": 37,
    "_isFastLaunch": false,
    "category": "Accelerated computing",
    "gpuNum": 8,
    "hideHardwareSpecs": false,
    "memoryGiB": 488,
    "name": "ml.p3.16xlarge",
    "vcpuNum": 64
   },
   {
    "_defaultOrder": 38,
    "_isFastLaunch": false,
    "category": "Accelerated computing",
    "gpuNum": 8,
    "hideHardwareSpecs": false,
    "memoryGiB": 768,
    "name": "ml.p3dn.24xlarge",
    "vcpuNum": 96
   },
   {
    "_defaultOrder": 39,
    "_isFastLaunch": false,
    "category": "Memory Optimized",
    "gpuNum": 0,
    "hideHardwareSpecs": false,
    "memoryGiB": 16,
    "name": "ml.r5.large",
    "vcpuNum": 2
   },
   {
    "_defaultOrder": 40,
    "_isFastLaunch": false,
    "category": "Memory Optimized",
    "gpuNum": 0,
    "hideHardwareSpecs": false,
    "memoryGiB": 32,
    "name": "ml.r5.xlarge",
    "vcpuNum": 4
   },
   {
    "_defaultOrder": 41,
    "_isFastLaunch": false,
    "category": "Memory Optimized",
    "gpuNum": 0,
    "hideHardwareSpecs": false,
    "memoryGiB": 64,
    "name": "ml.r5.2xlarge",
    "vcpuNum": 8
   },
   {
    "_defaultOrder": 42,
    "_isFastLaunch": false,
    "category": "Memory Optimized",
    "gpuNum": 0,
    "hideHardwareSpecs": false,
    "memoryGiB": 128,
    "name": "ml.r5.4xlarge",
    "vcpuNum": 16
   },
   {
    "_defaultOrder": 43,
    "_isFastLaunch": false,
    "category": "Memory Optimized",
    "gpuNum": 0,
    "hideHardwareSpecs": false,
    "memoryGiB": 256,
    "name": "ml.r5.8xlarge",
    "vcpuNum": 32
   },
   {
    "_defaultOrder": 44,
    "_isFastLaunch": false,
    "category": "Memory Optimized",
    "gpuNum": 0,
    "hideHardwareSpecs": false,
    "memoryGiB": 384,
    "name": "ml.r5.12xlarge",
    "vcpuNum": 48
   },
   {
    "_defaultOrder": 45,
    "_isFastLaunch": false,
    "category": "Memory Optimized",
    "gpuNum": 0,
    "hideHardwareSpecs": false,
    "memoryGiB": 512,
    "name": "ml.r5.16xlarge",
    "vcpuNum": 64
   },
   {
    "_defaultOrder": 46,
    "_isFastLaunch": false,
    "category": "Memory Optimized",
    "gpuNum": 0,
    "hideHardwareSpecs": false,
    "memoryGiB": 768,
    "name": "ml.r5.24xlarge",
    "vcpuNum": 96
   },
   {
    "_defaultOrder": 47,
    "_isFastLaunch": false,
    "category": "Accelerated computing",
    "gpuNum": 1,
    "hideHardwareSpecs": false,
    "memoryGiB": 16,
    "name": "ml.g5.xlarge",
    "vcpuNum": 4
   },
   {
    "_defaultOrder": 48,
    "_isFastLaunch": false,
    "category": "Accelerated computing",
    "gpuNum": 1,
    "hideHardwareSpecs": false,
    "memoryGiB": 32,
    "name": "ml.g5.2xlarge",
    "vcpuNum": 8
   },
   {
    "_defaultOrder": 49,
    "_isFastLaunch": false,
    "category": "Accelerated computing",
    "gpuNum": 1,
    "hideHardwareSpecs": false,
    "memoryGiB": 64,
    "name": "ml.g5.4xlarge",
    "vcpuNum": 16
   },
   {
    "_defaultOrder": 50,
    "_isFastLaunch": false,
    "category": "Accelerated computing",
    "gpuNum": 1,
    "hideHardwareSpecs": false,
    "memoryGiB": 128,
    "name": "ml.g5.8xlarge",
    "vcpuNum": 32
   },
   {
    "_defaultOrder": 51,
    "_isFastLaunch": false,
    "category": "Accelerated computing",
    "gpuNum": 1,
    "hideHardwareSpecs": false,
    "memoryGiB": 256,
    "name": "ml.g5.16xlarge",
    "vcpuNum": 64
   },
   {
    "_defaultOrder": 52,
    "_isFastLaunch": false,
    "category": "Accelerated computing",
    "gpuNum": 4,
    "hideHardwareSpecs": false,
    "memoryGiB": 192,
    "name": "ml.g5.12xlarge",
    "vcpuNum": 48
   },
   {
    "_defaultOrder": 53,
    "_isFastLaunch": false,
    "category": "Accelerated computing",
    "gpuNum": 4,
    "hideHardwareSpecs": false,
    "memoryGiB": 384,
    "name": "ml.g5.24xlarge",
    "vcpuNum": 96
   },
   {
    "_defaultOrder": 54,
    "_isFastLaunch": false,
    "category": "Accelerated computing",
    "gpuNum": 8,
    "hideHardwareSpecs": false,
    "memoryGiB": 768,
    "name": "ml.g5.48xlarge",
    "vcpuNum": 192
   },
   {
    "_defaultOrder": 55,
    "_isFastLaunch": false,
    "category": "Accelerated computing",
    "gpuNum": 8,
    "hideHardwareSpecs": false,
    "memoryGiB": 1152,
    "name": "ml.p4d.24xlarge",
    "vcpuNum": 96
   },
   {
    "_defaultOrder": 56,
    "_isFastLaunch": false,
    "category": "Accelerated computing",
    "gpuNum": 8,
    "hideHardwareSpecs": false,
    "memoryGiB": 1152,
    "name": "ml.p4de.24xlarge",
    "vcpuNum": 96
   },
   {
    "_defaultOrder": 57,
    "_isFastLaunch": false,
    "category": "Accelerated computing",
    "gpuNum": 0,
    "hideHardwareSpecs": false,
    "memoryGiB": 32,
    "name": "ml.trn1.2xlarge",
    "vcpuNum": 8
   },
   {
    "_defaultOrder": 58,
    "_isFastLaunch": false,
    "category": "Accelerated computing",
    "gpuNum": 0,
    "hideHardwareSpecs": false,
    "memoryGiB": 512,
    "name": "ml.trn1.32xlarge",
    "vcpuNum": 128
   },
   {
    "_defaultOrder": 59,
    "_isFastLaunch": false,
    "category": "Accelerated computing",
    "gpuNum": 0,
    "hideHardwareSpecs": false,
    "memoryGiB": 512,
    "name": "ml.trn1n.32xlarge",
    "vcpuNum": 128
   }
  ],
  "instance_type": "ml.t3.medium",
  "kernelspec": {
   "display_name": "Python 3 (Data Science 3.0)",
   "language": "python",
   "name": "python3__SAGEMAKER_INTERNAL__arn:aws:sagemaker:us-east-1:081325390199:image/sagemaker-data-science-310-v1"
  },
  "language_info": {
   "codemirror_mode": {
    "name": "ipython",
    "version": 3
   },
   "file_extension": ".py",
   "mimetype": "text/x-python",
   "name": "python",
   "nbconvert_exporter": "python",
   "pygments_lexer": "ipython3",
   "version": "3.10.6"
  }
 },
 "nbformat": 4,
 "nbformat_minor": 5
}
